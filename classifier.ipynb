{
 "cells": [
  {
   "cell_type": "markdown",
   "metadata": {},
   "source": [
    "fine tunning model: https://huggingface.co/docs/transformers/training\n",
    "\n",
    "testing model: https://towardsdatascience.com/fine-tuning-pretrained-nlp-models-with-huggingfaces-trainer-6326a4456e7b"
   ]
  },
  {
   "cell_type": "code",
   "execution_count": 1,
   "metadata": {},
   "outputs": [],
   "source": [
    "from utils.loader import DataLoader\n",
    "import datasets\n",
    "import random\n"
   ]
  },
  {
   "cell_type": "code",
   "execution_count": 4,
   "metadata": {},
   "outputs": [],
   "source": [
    "# Load datasets\n",
    "loader = DataLoader()\n",
    "train_data = loader.load_amazon(deceptive=False, all=True, test_mode=False)\n",
    "test_data = loader.load_amazon(deceptive=False, all=True, test_mode=True)"
   ]
  },
  {
   "cell_type": "code",
   "execution_count": 5,
   "metadata": {},
   "outputs": [
    {
     "data": {
      "text/html": [
       "<div>\n",
       "<style scoped>\n",
       "    .dataframe tbody tr th:only-of-type {\n",
       "        vertical-align: middle;\n",
       "    }\n",
       "\n",
       "    .dataframe tbody tr th {\n",
       "        vertical-align: top;\n",
       "    }\n",
       "\n",
       "    .dataframe thead th {\n",
       "        text-align: right;\n",
       "    }\n",
       "</style>\n",
       "<table border=\"1\" class=\"dataframe\">\n",
       "  <thead>\n",
       "    <tr style=\"text-align: right;\">\n",
       "      <th></th>\n",
       "      <th>DOC_ID</th>\n",
       "      <th>LABEL</th>\n",
       "      <th>RATING</th>\n",
       "      <th>VERIFIED_PURCHASE</th>\n",
       "      <th>PRODUCT_CATEGORY</th>\n",
       "      <th>PRODUCT_ID</th>\n",
       "      <th>PRODUCT_TITLE</th>\n",
       "      <th>REVIEW_TITLE</th>\n",
       "      <th>REVIEW_TEXT</th>\n",
       "    </tr>\n",
       "  </thead>\n",
       "  <tbody>\n",
       "    <tr>\n",
       "      <th>0</th>\n",
       "      <td>10346</td>\n",
       "      <td>1</td>\n",
       "      <td>3</td>\n",
       "      <td>N</td>\n",
       "      <td>Watches</td>\n",
       "      <td>B000GB1R7S</td>\n",
       "      <td>Casio Men's CA53W Calculator Watch</td>\n",
       "      <td>it works just fine</td>\n",
       "      <td>I bought this for my husband to replace an old...</td>\n",
       "    </tr>\n",
       "    <tr>\n",
       "      <th>1</th>\n",
       "      <td>8600</td>\n",
       "      <td>1</td>\n",
       "      <td>5</td>\n",
       "      <td>N</td>\n",
       "      <td>Furniture</td>\n",
       "      <td>B000F92B1W</td>\n",
       "      <td>Studio RTA A-Tower Corner Wood Computer Desk w...</td>\n",
       "      <td>Nice desk!</td>\n",
       "      <td>I didn't really like putting the Studio RTA A-...</td>\n",
       "    </tr>\n",
       "    <tr>\n",
       "      <th>2</th>\n",
       "      <td>11658</td>\n",
       "      <td>0</td>\n",
       "      <td>3</td>\n",
       "      <td>Y</td>\n",
       "      <td>PC</td>\n",
       "      <td>B004CZ48DE</td>\n",
       "      <td>Zalman CNPS9900MAX-B Long Life Bearing CPU Coo...</td>\n",
       "      <td>Excellent fan but it took me 45mn to get it in...</td>\n",
       "      <td>A few comments:&lt;br /&gt;Those who complains about...</td>\n",
       "    </tr>\n",
       "    <tr>\n",
       "      <th>3</th>\n",
       "      <td>159</td>\n",
       "      <td>1</td>\n",
       "      <td>4</td>\n",
       "      <td>N</td>\n",
       "      <td>Kitchen</td>\n",
       "      <td>B0033Z4H94</td>\n",
       "      <td>Party Cups Mugs Compatible with Original Magic...</td>\n",
       "      <td>Pretty good actually</td>\n",
       "      <td>My sister bought this for all of use to share ...</td>\n",
       "    </tr>\n",
       "    <tr>\n",
       "      <th>4</th>\n",
       "      <td>69</td>\n",
       "      <td>1</td>\n",
       "      <td>4</td>\n",
       "      <td>N</td>\n",
       "      <td>Office Products</td>\n",
       "      <td>B000GR80L8</td>\n",
       "      <td>Safco Products 3255BL Onyx Mesh Desktop Organi...</td>\n",
       "      <td>it looked exactly like what I had in my mind</td>\n",
       "      <td>When I made this purchase, I thought it was a ...</td>\n",
       "    </tr>\n",
       "    <tr>\n",
       "      <th>...</th>\n",
       "      <td>...</td>\n",
       "      <td>...</td>\n",
       "      <td>...</td>\n",
       "      <td>...</td>\n",
       "      <td>...</td>\n",
       "      <td>...</td>\n",
       "      <td>...</td>\n",
       "      <td>...</td>\n",
       "      <td>...</td>\n",
       "    </tr>\n",
       "    <tr>\n",
       "      <th>15745</th>\n",
       "      <td>16852</td>\n",
       "      <td>0</td>\n",
       "      <td>5</td>\n",
       "      <td>N</td>\n",
       "      <td>Watches</td>\n",
       "      <td>B005FN15EM</td>\n",
       "      <td>Invicta Men's 1799 Russian Diver Collection Mu...</td>\n",
       "      <td>very nice watch!!</td>\n",
       "      <td>love this watch!! im 6'3 and have to say this ...</td>\n",
       "    </tr>\n",
       "    <tr>\n",
       "      <th>15746</th>\n",
       "      <td>14812</td>\n",
       "      <td>0</td>\n",
       "      <td>5</td>\n",
       "      <td>Y</td>\n",
       "      <td>Wireless</td>\n",
       "      <td>B00OL4VVJU</td>\n",
       "      <td>LilGadgets CarBuddy Universal Headrest Tablet ...</td>\n",
       "      <td>This is a MUST HAVE product!</td>\n",
       "      <td>This is an excellent choice to mount your Kind...</td>\n",
       "    </tr>\n",
       "    <tr>\n",
       "      <th>15747</th>\n",
       "      <td>6092</td>\n",
       "      <td>1</td>\n",
       "      <td>5</td>\n",
       "      <td>Y</td>\n",
       "      <td>Video Games</td>\n",
       "      <td>B00N48E1H8</td>\n",
       "      <td>Ortz® Xbox One Controller Charger + FREE AC Wa...</td>\n",
       "      <td>Fast charging</td>\n",
       "      <td>This creation is grand, I couldn't wait for th...</td>\n",
       "    </tr>\n",
       "    <tr>\n",
       "      <th>15748</th>\n",
       "      <td>14925</td>\n",
       "      <td>0</td>\n",
       "      <td>5</td>\n",
       "      <td>Y</td>\n",
       "      <td>Kitchen</td>\n",
       "      <td>B0000VLCEW</td>\n",
       "      <td>Amco Advanced Performance Measuring Cup Set</td>\n",
       "      <td>Love them. Have used them 3 or 4 times ...</td>\n",
       "      <td>Love them.  Have used them 3 or 4 times alread...</td>\n",
       "    </tr>\n",
       "    <tr>\n",
       "      <th>15749</th>\n",
       "      <td>12877</td>\n",
       "      <td>0</td>\n",
       "      <td>4</td>\n",
       "      <td>Y</td>\n",
       "      <td>Automotive</td>\n",
       "      <td>B00CAKILAO</td>\n",
       "      <td>BDK Universal Fit Trimmable Heavy Duty Diamond...</td>\n",
       "      <td>This mat is great. I bought for my Jeep</td>\n",
       "      <td>This mat is great. I bought for my Jeep. Had t...</td>\n",
       "    </tr>\n",
       "  </tbody>\n",
       "</table>\n",
       "<p>15750 rows × 9 columns</p>\n",
       "</div>"
      ],
      "text/plain": [
       "       DOC_ID LABEL  RATING VERIFIED_PURCHASE PRODUCT_CATEGORY  PRODUCT_ID  \\\n",
       "0       10346     1       3                 N          Watches  B000GB1R7S   \n",
       "1        8600     1       5                 N        Furniture  B000F92B1W   \n",
       "2       11658     0       3                 Y               PC  B004CZ48DE   \n",
       "3         159     1       4                 N          Kitchen  B0033Z4H94   \n",
       "4          69     1       4                 N  Office Products  B000GR80L8   \n",
       "...       ...   ...     ...               ...              ...         ...   \n",
       "15745   16852     0       5                 N          Watches  B005FN15EM   \n",
       "15746   14812     0       5                 Y         Wireless  B00OL4VVJU   \n",
       "15747    6092     1       5                 Y      Video Games  B00N48E1H8   \n",
       "15748   14925     0       5                 Y          Kitchen  B0000VLCEW   \n",
       "15749   12877     0       4                 Y       Automotive  B00CAKILAO   \n",
       "\n",
       "                                           PRODUCT_TITLE  \\\n",
       "0                     Casio Men's CA53W Calculator Watch   \n",
       "1      Studio RTA A-Tower Corner Wood Computer Desk w...   \n",
       "2      Zalman CNPS9900MAX-B Long Life Bearing CPU Coo...   \n",
       "3      Party Cups Mugs Compatible with Original Magic...   \n",
       "4      Safco Products 3255BL Onyx Mesh Desktop Organi...   \n",
       "...                                                  ...   \n",
       "15745  Invicta Men's 1799 Russian Diver Collection Mu...   \n",
       "15746  LilGadgets CarBuddy Universal Headrest Tablet ...   \n",
       "15747  Ortz® Xbox One Controller Charger + FREE AC Wa...   \n",
       "15748        Amco Advanced Performance Measuring Cup Set   \n",
       "15749  BDK Universal Fit Trimmable Heavy Duty Diamond...   \n",
       "\n",
       "                                            REVIEW_TITLE  \\\n",
       "0                                     it works just fine   \n",
       "1                                             Nice desk!   \n",
       "2      Excellent fan but it took me 45mn to get it in...   \n",
       "3                                   Pretty good actually   \n",
       "4           it looked exactly like what I had in my mind   \n",
       "...                                                  ...   \n",
       "15745                                  very nice watch!!   \n",
       "15746                       This is a MUST HAVE product!   \n",
       "15747                                      Fast charging   \n",
       "15748         Love them. Have used them 3 or 4 times ...   \n",
       "15749            This mat is great. I bought for my Jeep   \n",
       "\n",
       "                                             REVIEW_TEXT  \n",
       "0      I bought this for my husband to replace an old...  \n",
       "1      I didn't really like putting the Studio RTA A-...  \n",
       "2      A few comments:<br />Those who complains about...  \n",
       "3      My sister bought this for all of use to share ...  \n",
       "4      When I made this purchase, I thought it was a ...  \n",
       "...                                                  ...  \n",
       "15745  love this watch!! im 6'3 and have to say this ...  \n",
       "15746  This is an excellent choice to mount your Kind...  \n",
       "15747  This creation is grand, I couldn't wait for th...  \n",
       "15748  Love them.  Have used them 3 or 4 times alread...  \n",
       "15749  This mat is great. I bought for my Jeep. Had t...  \n",
       "\n",
       "[15750 rows x 9 columns]"
      ]
     },
     "execution_count": 5,
     "metadata": {},
     "output_type": "execute_result"
    }
   ],
   "source": [
    "train_data"
   ]
  },
  {
   "cell_type": "code",
   "execution_count": 2,
   "metadata": {},
   "outputs": [
    {
     "name": "stderr",
     "output_type": "stream",
     "text": [
      "c:\\Users\\edton\\Desktop\\Work\\5.UCL\\ML Masters (21-22)\\T2_COMP0087 Statistical Natural Language Processing\\NLP Group CW\\nlp_coursework_project\\utils\\loader.py:107: ParserWarning: Falling back to the 'python' engine because the 'c' engine does not support regex separators (separators > 1 char and different from '\\s+' are interpreted as regex); you can avoid this warning by specifying engine='python'.\n",
      "  data = pd.read_csv(data_path, sep='   ')\n"
     ]
    }
   ],
   "source": [
    "loader = DataLoader()\n",
    "op_data = loader.load_gold_txt(deceptive=False, all=True)"
   ]
  },
  {
   "cell_type": "code",
   "execution_count": 3,
   "metadata": {},
   "outputs": [
    {
     "data": {
      "text/html": [
       "<div>\n",
       "<style scoped>\n",
       "    .dataframe tbody tr th:only-of-type {\n",
       "        vertical-align: middle;\n",
       "    }\n",
       "\n",
       "    .dataframe tbody tr th {\n",
       "        vertical-align: top;\n",
       "    }\n",
       "\n",
       "    .dataframe thead th {\n",
       "        text-align: right;\n",
       "    }\n",
       "</style>\n",
       "<table border=\"1\" class=\"dataframe\">\n",
       "  <thead>\n",
       "    <tr style=\"text-align: right;\">\n",
       "      <th></th>\n",
       "      <th>LABEL</th>\n",
       "      <th>POLARITY</th>\n",
       "      <th>REVIEW_TEXT</th>\n",
       "    </tr>\n",
       "  </thead>\n",
       "  <tbody>\n",
       "    <tr>\n",
       "      <th>0</th>\n",
       "      <td>1</td>\n",
       "      <td>positive</td>\n",
       "      <td>My husband and I stayed at the Hyatt Regency w...</td>\n",
       "    </tr>\n",
       "    <tr>\n",
       "      <th>1</th>\n",
       "      <td>0</td>\n",
       "      <td>positive</td>\n",
       "      <td>Ok, so first trip to chicago and I was a litll...</td>\n",
       "    </tr>\n",
       "    <tr>\n",
       "      <th>2</th>\n",
       "      <td>0</td>\n",
       "      <td>negative</td>\n",
       "      <td>What's not to like? --&gt; Problems getting the r...</td>\n",
       "    </tr>\n",
       "    <tr>\n",
       "      <th>3</th>\n",
       "      <td>0</td>\n",
       "      <td>positive</td>\n",
       "      <td>I try to stay at the James every time I happen...</td>\n",
       "    </tr>\n",
       "    <tr>\n",
       "      <th>4</th>\n",
       "      <td>0</td>\n",
       "      <td>negative</td>\n",
       "      <td>Under the gloss of a nice building, friendly s...</td>\n",
       "    </tr>\n",
       "    <tr>\n",
       "      <th>...</th>\n",
       "      <td>...</td>\n",
       "      <td>...</td>\n",
       "      <td>...</td>\n",
       "    </tr>\n",
       "    <tr>\n",
       "      <th>1595</th>\n",
       "      <td>0</td>\n",
       "      <td>positive</td>\n",
       "      <td>This was our second time staying here. We were...</td>\n",
       "    </tr>\n",
       "    <tr>\n",
       "      <th>1596</th>\n",
       "      <td>1</td>\n",
       "      <td>negative</td>\n",
       "      <td>The Amalfi Hotel has a beautiful website and i...</td>\n",
       "    </tr>\n",
       "    <tr>\n",
       "      <th>1597</th>\n",
       "      <td>0</td>\n",
       "      <td>positive</td>\n",
       "      <td>We booked this hotel using points on our credi...</td>\n",
       "    </tr>\n",
       "    <tr>\n",
       "      <th>1598</th>\n",
       "      <td>0</td>\n",
       "      <td>negative</td>\n",
       "      <td>The Swissotel is totally understaffed and lack...</td>\n",
       "    </tr>\n",
       "    <tr>\n",
       "      <th>1599</th>\n",
       "      <td>1</td>\n",
       "      <td>positive</td>\n",
       "      <td>Fairmont Chicago was a great choice for my wif...</td>\n",
       "    </tr>\n",
       "  </tbody>\n",
       "</table>\n",
       "<p>1600 rows × 3 columns</p>\n",
       "</div>"
      ],
      "text/plain": [
       "     LABEL  POLARITY                                        REVIEW_TEXT\n",
       "0        1  positive  My husband and I stayed at the Hyatt Regency w...\n",
       "1        0  positive  Ok, so first trip to chicago and I was a litll...\n",
       "2        0  negative  What's not to like? --> Problems getting the r...\n",
       "3        0  positive  I try to stay at the James every time I happen...\n",
       "4        0  negative  Under the gloss of a nice building, friendly s...\n",
       "...    ...       ...                                                ...\n",
       "1595     0  positive  This was our second time staying here. We were...\n",
       "1596     1  negative  The Amalfi Hotel has a beautiful website and i...\n",
       "1597     0  positive  We booked this hotel using points on our credi...\n",
       "1598     0  negative  The Swissotel is totally understaffed and lack...\n",
       "1599     1  positive  Fairmont Chicago was a great choice for my wif...\n",
       "\n",
       "[1600 rows x 3 columns]"
      ]
     },
     "execution_count": 3,
     "metadata": {},
     "output_type": "execute_result"
    }
   ],
   "source": [
    "op_data"
   ]
  },
  {
   "cell_type": "code",
   "execution_count": 71,
   "metadata": {},
   "outputs": [
    {
     "name": "stdout",
     "output_type": "stream",
     "text": [
      "['Beauty' 'Office Products' 'Grocery']\n"
     ]
    }
   ],
   "source": [
    "# choose 3 categories to train with\n",
    "unique_category = train_data['PRODUCT_CATEGORY'].unique()\n",
    "random.seed(22)\n",
    "print(unique_category[random.sample(range(30), 3)])\n",
    "# gogo = train_data[train_data['PRODUCT_CATEGORY'].isin(['Jewelry' 'Outdoors'])]\n"
   ]
  },
  {
   "cell_type": "code",
   "execution_count": 84,
   "metadata": {},
   "outputs": [],
   "source": [
    "def df_2_dataset(panda_data, VERIFIED_PURCHASE, PRODUCT_CATEGORY=False):\n",
    "    if PRODUCT_CATEGORY != False:\n",
    "        panda_data = panda_data[panda_data['PRODUCT_CATEGORY'].isin(PRODUCT_CATEGORY)]\n",
    "\n",
    "    panda_data = panda_data[panda_data['VERIFIED_PURCHASE'].isin(VERIFIED_PURCHASE)]\n",
    "\n",
    "    dataset_data = datasets.Dataset.from_pandas(panda_data)\n",
    "    remove_columns = ['DOC_ID',\n",
    "                    'RATING',\n",
    "                    'VERIFIED_PURCHASE',\n",
    "                    'PRODUCT_CATEGORY',\n",
    "                    'PRODUCT_ID',\n",
    "                    'PRODUCT_TITLE',\n",
    "                    'REVIEW_TITLE',\n",
    "                    '__index_level_0__']\n",
    "    for col in remove_columns:\n",
    "        dataset_data = dataset_data.remove_columns(col) \n",
    "    dataset_data = dataset_data.rename_column('LABEL', 'labels')\n",
    "    dataset_data = dataset_data.rename_column('REVIEW_TEXT', 'text')\n",
    "\n",
    "    return dataset_data\n",
    "\n",
    "verified = ['Y']\n",
    "category = ['Grocery']\n",
    "df_train = df_2_dataset(train_data, verified, category)\n",
    "df_test = df_2_dataset(test_data, verified, category)\n",
    "df_full_test = df_2_dataset(test_data, verified, False)\n",
    "\n"
   ]
  },
  {
   "cell_type": "code",
   "execution_count": 85,
   "metadata": {},
   "outputs": [
    {
     "name": "stdout",
     "output_type": "stream",
     "text": [
      "Dataset({\n",
      "    features: ['labels', 'text'],\n",
      "    num_rows: 233\n",
      "}) Dataset({\n",
      "    features: ['labels', 'text'],\n",
      "    num_rows: 78\n",
      "}) Dataset({\n",
      "    features: ['labels', 'text'],\n",
      "    num_rows: 2866\n",
      "})\n"
     ]
    }
   ],
   "source": [
    "print(df_train, df_test, df_full_test)"
   ]
  },
  {
   "cell_type": "code",
   "execution_count": 75,
   "metadata": {},
   "outputs": [
    {
     "name": "stderr",
     "output_type": "stream",
     "text": [
      "100%|██████████| 1/1 [00:00<00:00,  4.78ba/s]\n",
      "100%|██████████| 1/1 [00:00<00:00, 24.88ba/s]\n",
      "100%|██████████| 6/6 [00:00<00:00,  7.05ba/s]\n"
     ]
    }
   ],
   "source": [
    "from transformers import AutoTokenizer\n",
    "\n",
    "tokenizer = AutoTokenizer.from_pretrained(\"bert-base-cased\")\n",
    "\n",
    "\n",
    "def tokenize_function(examples):\n",
    "    return tokenizer(examples[\"text\"], padding=\"max_length\", truncation=True)\n",
    "\n",
    "# train and val sets\n",
    "tokenized_train = df_train.map(tokenize_function, batched=True)\n",
    "tokenized_train = tokenized_train.train_test_split(test_size=0.1)\n",
    "\n",
    "# test set\n",
    "tokenized_test = df_test.map(tokenize_function, batched=True)\n",
    "tokenized_full_test = df_full_test.map(tokenize_function, batched=True)"
   ]
  },
  {
   "cell_type": "code",
   "execution_count": 7,
   "metadata": {},
   "outputs": [
    {
     "name": "stderr",
     "output_type": "stream",
     "text": [
      "Some weights of the model checkpoint at bert-base-cased were not used when initializing BertForSequenceClassification: ['cls.seq_relationship.weight', 'cls.predictions.decoder.weight', 'cls.predictions.bias', 'cls.predictions.transform.dense.bias', 'cls.predictions.transform.LayerNorm.weight', 'cls.predictions.transform.dense.weight', 'cls.seq_relationship.bias', 'cls.predictions.transform.LayerNorm.bias']\n",
      "- This IS expected if you are initializing BertForSequenceClassification from the checkpoint of a model trained on another task or with another architecture (e.g. initializing a BertForSequenceClassification model from a BertForPreTraining model).\n",
      "- This IS NOT expected if you are initializing BertForSequenceClassification from the checkpoint of a model that you expect to be exactly identical (initializing a BertForSequenceClassification model from a BertForSequenceClassification model).\n",
      "Some weights of BertForSequenceClassification were not initialized from the model checkpoint at bert-base-cased and are newly initialized: ['classifier.weight', 'classifier.bias']\n",
      "You should probably TRAIN this model on a down-stream task to be able to use it for predictions and inference.\n"
     ]
    }
   ],
   "source": [
    "from transformers import AutoModelForSequenceClassification\n",
    "\n",
    "model = AutoModelForSequenceClassification.from_pretrained(\"bert-base-cased\", num_labels=2)"
   ]
  },
  {
   "cell_type": "code",
   "execution_count": 15,
   "metadata": {},
   "outputs": [
    {
     "name": "stderr",
     "output_type": "stream",
     "text": [
      "PyTorch: setting up devices\n",
      "The default value for the training argument `--report_to` will change in v5 (from all installed integrations to none). In v5, you will need to use `--report_to all` to get the same behavior as now. You should start updating your code and make this info disappear :-).\n"
     ]
    }
   ],
   "source": [
    "from transformers import TrainingArguments\n",
    "\n",
    "training_args = TrainingArguments(output_dir=\"test_trainer\")"
   ]
  },
  {
   "cell_type": "code",
   "execution_count": 16,
   "metadata": {},
   "outputs": [],
   "source": [
    "import numpy as np\n",
    "from datasets import load_metric\n",
    "\n",
    "metric = load_metric(\"accuracy\")"
   ]
  },
  {
   "cell_type": "code",
   "execution_count": 17,
   "metadata": {},
   "outputs": [],
   "source": [
    "def compute_metrics(eval_pred):\n",
    "    logits, labels = eval_pred\n",
    "    predictions = np.argmax(logits, axis=-1)\n",
    "    return metric.compute(predictions=predictions, references=labels)"
   ]
  },
  {
   "cell_type": "code",
   "execution_count": 18,
   "metadata": {},
   "outputs": [
    {
     "name": "stderr",
     "output_type": "stream",
     "text": [
      "PyTorch: setting up devices\n",
      "The default value for the training argument `--report_to` will change in v5 (from all installed integrations to none). In v5, you will need to use `--report_to all` to get the same behavior as now. You should start updating your code and make this info disappear :-).\n"
     ]
    }
   ],
   "source": [
    "from transformers import TrainingArguments, Trainer\n",
    "\n",
    "training_args = TrainingArguments(output_dir=\"test_trainer\", \n",
    "                                  # evaluation_strategy=\"steps\",\n",
    "                                  evaluation_strategy=\"epoch\",\n",
    "                                  num_train_epochs=5,\n",
    "                                  save_total_limit = 1,\n",
    "                                  load_best_model_at_end=True,\n",
    "                                  save_strategy = \"epoch\")"
   ]
  },
  {
   "cell_type": "code",
   "execution_count": 76,
   "metadata": {},
   "outputs": [
    {
     "name": "stdout",
     "output_type": "stream",
     "text": [
      "Dataset({\n",
      "    features: ['attention_mask', 'input_ids', 'labels', 'text', 'token_type_ids'],\n",
      "    num_rows: 480\n",
      "}) Dataset({\n",
      "    features: ['attention_mask', 'input_ids', 'labels', 'text', 'token_type_ids'],\n",
      "    num_rows: 54\n",
      "}) Dataset({\n",
      "    features: ['attention_mask', 'input_ids', 'labels', 'text', 'token_type_ids'],\n",
      "    num_rows: 166\n",
      "}) Dataset({\n",
      "    features: ['attention_mask', 'input_ids', 'labels', 'text', 'token_type_ids'],\n",
      "    num_rows: 5250\n",
      "})\n"
     ]
    }
   ],
   "source": [
    "# reduce data size for debugging\n",
    "# with 100 training data we get ~60%\n",
    "testing = False\n",
    "\n",
    "if testing:\n",
    "  train_dataset = tokenized_train['train'].shuffle(seed=42).select(range(200))\n",
    "  val_dataset = tokenized_train['test'].shuffle(seed=42).select(range(100))\n",
    "  test_dataset = tokenized_test.shuffle(seed=42).select(range(200))\n",
    "  test_full_dataset = tokenized_full_test.shuffle(seed=42).select(range(200))\n",
    "else:\n",
    "  train_dataset = tokenized_train['train']\n",
    "  val_dataset = tokenized_train['test']\n",
    "  test_dataset = tokenized_test\n",
    "  test_full_dataset = tokenized_full_test\n",
    "\n",
    "print(train_dataset, val_dataset, test_dataset,tokenized_full_test)"
   ]
  },
  {
   "cell_type": "code",
   "execution_count": 20,
   "metadata": {},
   "outputs": [],
   "source": [
    "trainer = Trainer(\n",
    "    model=model,\n",
    "    args=training_args,\n",
    "    train_dataset=train_dataset,\n",
    "    eval_dataset=val_dataset,\n",
    "    compute_metrics=compute_metrics,\n",
    ")"
   ]
  },
  {
   "cell_type": "code",
   "execution_count": null,
   "metadata": {},
   "outputs": [],
   "source": [
    "trainer.train()"
   ]
  },
  {
   "cell_type": "code",
   "execution_count": null,
   "metadata": {},
   "outputs": [],
   "source": [
    "from datasets import load_metric\n",
    "metric = load_metric(\"glue\", \"mrpc\")"
   ]
  },
  {
   "cell_type": "code",
   "execution_count": null,
   "metadata": {},
   "outputs": [],
   "source": [
    "for d in [test_dataset, test_full_dataset]:\n",
    "    predictions = trainer.predict(d)\n",
    "    print(predictions.predictions.shape, predictions.label_ids.shape)\n",
    "\n",
    "    preds = np.argmax(predictions.predictions, axis=-1)\n",
    "    metric.compute(predictions=preds, references=predictions.label_ids)"
   ]
  },
  {
   "cell_type": "code",
   "execution_count": null,
   "metadata": {},
   "outputs": [],
   "source": [
    "path = '/content/drive/MyDrive/Colab Notebooks/2022-03 SNLP group project/tuned_classifier'\n",
    "trainer.save_model(path)"
   ]
  },
  {
   "cell_type": "code",
   "execution_count": null,
   "metadata": {},
   "outputs": [],
   "source": [
    "new_model = AutoModelForSequenceClassification.from_pretrained(path, num_labels=2)\n",
    "\n",
    "test_trainer = Trainer(new_model)\n",
    "\n",
    "ppp = test_trainer.predict(test_dataset)\n",
    "print(ppp.predictions.shape, ppp.label_ids.shape)\n",
    "\n",
    "pd = np.argmax(ppp.predictions, axis=-1)"
   ]
  },
  {
   "cell_type": "code",
   "execution_count": null,
   "metadata": {},
   "outputs": [],
   "source": [
    "metric = load_metric(\"glue\", \"mrpc\")\n",
    "metric.compute(predictions=pd, references=ppp.label_ids)"
   ]
  }
 ],
 "metadata": {
  "interpreter": {
   "hash": "3afd8f29d5831e8390c3b3041509e615069f2b27f76c79fda71dc34b684b0001"
  },
  "kernelspec": {
   "display_name": "Python 3.9.7 ('MV00')",
   "language": "python",
   "name": "python3"
  },
  "language_info": {
   "codemirror_mode": {
    "name": "ipython",
    "version": 3
   },
   "file_extension": ".py",
   "mimetype": "text/x-python",
   "name": "python",
   "nbconvert_exporter": "python",
   "pygments_lexer": "ipython3",
   "version": "3.8.12"
  },
  "orig_nbformat": 4
 },
 "nbformat": 4,
 "nbformat_minor": 2
}
