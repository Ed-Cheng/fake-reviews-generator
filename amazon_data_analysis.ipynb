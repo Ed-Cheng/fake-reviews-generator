{
 "cells": [
  {
   "cell_type": "code",
   "execution_count": 1,
   "metadata": {},
   "outputs": [],
   "source": [
    "from utils.loader import DataLoader\n",
    "import datasets\n",
    "import random\n"
   ]
  },
  {
   "cell_type": "code",
   "execution_count": 2,
   "metadata": {},
   "outputs": [],
   "source": [
    "# Load datasets\n",
    "loader = DataLoader()\n",
    "train_data = loader.load_amazon(deceptive=False, all=True, test_mode=False)"
   ]
  },
  {
   "cell_type": "code",
   "execution_count": 19,
   "metadata": {},
   "outputs": [
    {
     "name": "stdout",
     "output_type": "stream",
     "text": [
      "0    7916\n",
      "1    7834\n",
      "Name: LABEL, dtype: int64\n",
      "5    9199\n",
      "4    2947\n",
      "3    1418\n",
      "1    1314\n",
      "2     872\n",
      "Name: RATING, dtype: int64\n",
      "Y    8832\n",
      "N    6918\n",
      "Name: VERIFIED_PURCHASE, dtype: int64\n"
     ]
    }
   ],
   "source": [
    "column = []\n",
    "for col in train_data.columns:\n",
    "    if train_data[col].nunique() < 20:\n",
    "        print(train_data[col].value_counts())\n",
    "        column.append(col)\n",
    "\n",
    "\n"
   ]
  },
  {
   "cell_type": "code",
   "execution_count": 22,
   "metadata": {},
   "outputs": [
    {
     "data": {
      "text/plain": [
       "['LABEL', 'RATING', 'VERIFIED_PURCHASE']"
      ]
     },
     "execution_count": 22,
     "metadata": {},
     "output_type": "execute_result"
    }
   ],
   "source": [
    "column"
   ]
  },
  {
   "cell_type": "code",
   "execution_count": 30,
   "metadata": {},
   "outputs": [],
   "source": [
    "fake = train_data[train_data['LABEL'].isin([1])]\n",
    "real = train_data[train_data['LABEL'].isin([0])]"
   ]
  },
  {
   "cell_type": "code",
   "execution_count": 33,
   "metadata": {},
   "outputs": [
    {
     "name": "stdout",
     "output_type": "stream",
     "text": [
      "fake and Y verified 2166\n",
      "fake and N verified 2166\n",
      "real and Y verified 6666\n",
      "real and N verified 1250\n"
     ]
    }
   ],
   "source": [
    "print('fake and Y verified', len(fake[fake['VERIFIED_PURCHASE'].isin(['Y'])]))\n",
    "print('fake and N verified', len(fake[fake['VERIFIED_PURCHASE'].isin(['Y'])]))\n",
    "print('real and Y verified', len(real[real['VERIFIED_PURCHASE'].isin(['Y'])]))\n",
    "print('real and N verified', len(real[real['VERIFIED_PURCHASE'].isin(['N'])]))"
   ]
  },
  {
   "cell_type": "code",
   "execution_count": 37,
   "metadata": {},
   "outputs": [
    {
     "name": "stdout",
     "output_type": "stream",
     "text": [
      "fake and 1 star 651\n",
      "real and 1 star 663\n",
      "fake and 2 star 464\n",
      "real and 2 star 408\n",
      "fake and 3 star 705\n",
      "real and 3 star 713\n",
      "fake and 4 star 1460\n",
      "real and 4 star 1487\n",
      "fake and 5 star 4554\n",
      "real and 5 star 4645\n"
     ]
    }
   ],
   "source": [
    "for i in range(1,6):\n",
    "    print(f\"fake and {i} star {len(fake[fake['RATING'].isin([i])])}\")\n",
    "    print(f\"real and {i} star {len(real[real['RATING'].isin([i])])}\")\n",
    "\n",
    "# print('fake and 5 star', len(fake[fake['RATING'].isin([5])]))\n",
    "# print('fake and 4 star', len(fake[fake['RATING'].isin([4])]))\n",
    "# print('real and 5 star', len(real[real['RATING'].isin([5])]))\n",
    "# print('real and 4 star', len(real[real['RATING'].isin([4])]))"
   ]
  },
  {
   "cell_type": "code",
   "execution_count": null,
   "metadata": {},
   "outputs": [],
   "source": []
  }
 ],
 "metadata": {
  "interpreter": {
   "hash": "1bf0f833311fc1a2d9ca1cf8207d63bf4ae3af89d2c46669381eed313e768b9d"
  },
  "kernelspec": {
   "display_name": "Python 3.8.12 ('SNLP')",
   "language": "python",
   "name": "python3"
  },
  "language_info": {
   "codemirror_mode": {
    "name": "ipython",
    "version": 3
   },
   "file_extension": ".py",
   "mimetype": "text/x-python",
   "name": "python",
   "nbconvert_exporter": "python",
   "pygments_lexer": "ipython3",
   "version": "3.8.12"
  },
  "orig_nbformat": 4
 },
 "nbformat": 4,
 "nbformat_minor": 2
}
