{
 "cells": [
  {
   "cell_type": "code",
   "execution_count": 74,
   "metadata": {},
   "outputs": [],
   "source": [
    "import os\n",
    "from utils.configs import config\n",
    "from utils.loader import DataLoader\n",
    "import random"
   ]
  },
  {
   "cell_type": "code",
   "execution_count": 75,
   "metadata": {},
   "outputs": [],
   "source": [
    "polarities = []\n",
    "file_list = []\n",
    "polarities.append(config['pos_path'])\n",
    "paths = [os.path.join(config['base_path'], config['gold_path'], pol_path, config['dec_path']) for pol_path in\n",
    "            polarities]\n",
    "paths2 = [os.path.join(config['base_path'], config['gold_path'], pol_path, config['truth_path']) for pol_path in\n",
    "            polarities]\n",
    "\n",
    "for path in paths:\n",
    "    file_list.extend(DataLoader.list_all_txt_files(path))\n",
    "for path in paths2:\n",
    "    file_list.extend(DataLoader.list_all_txt_files(path))\n",
    "\n",
    "reviews = []\n",
    "for file in file_list:\n",
    "    with open(file, 'r') as f:\n",
    "        reviews.extend(f.read().splitlines())\n",
    "\n",
    "rawData = []\n",
    "for i in range(int(len(reviews)/2)):\n",
    "    rawData.append('   '.join(['__label1__', 'positive', reviews[i]]))\n",
    "    rawData.append('   '.join(['__label2__', 'positive', reviews[i+int(len(reviews)/2)]]))\n",
    "\n",
    "\n",
    "\n",
    "\n",
    "\n",
    "polarities = []\n",
    "file_list = []\n",
    "polarities.append(config['neg_path'])\n",
    "paths = [os.path.join(config['base_path'], config['gold_path'], pol_path, config['dec_path']) for pol_path in\n",
    "            polarities]\n",
    "paths2 = [os.path.join(config['base_path'], config['gold_path'], pol_path, config['truth_path']) for pol_path in\n",
    "            polarities]\n",
    "\n",
    "for path in paths:\n",
    "    file_list.extend(DataLoader.list_all_txt_files(path))\n",
    "for path in paths2:\n",
    "    file_list.extend(DataLoader.list_all_txt_files(path))\n",
    "\n",
    "reviews = []\n",
    "for file in file_list:\n",
    "    with open(file, 'r') as f:\n",
    "        reviews.extend(f.read().splitlines())\n",
    "\n",
    "for i in range(int(len(reviews)/2)):\n",
    "    rawData.append('   '.join(['__label1__', 'negative', reviews[i]]))\n",
    "    rawData.append('   '.join(['__label2__', 'negative', reviews[i+int(len(reviews)/2)]]))\n",
    "\n",
    "random.shuffle(rawData)"
   ]
  },
  {
   "cell_type": "code",
   "execution_count": 76,
   "metadata": {},
   "outputs": [
    {
     "data": {
      "text/plain": [
       "['__label1__   positiv',\n",
       " '__label2__   positiv',\n",
       " '__label2__   negativ',\n",
       " '__label2__   positiv',\n",
       " '__label2__   negativ',\n",
       " '__label2__   positiv',\n",
       " '__label1__   positiv',\n",
       " '__label1__   positiv',\n",
       " '__label1__   negativ',\n",
       " '__label1__   positiv']"
      ]
     },
     "execution_count": 76,
     "metadata": {},
     "output_type": "execute_result"
    }
   ],
   "source": [
    "[rawData[i][:20] for i in range(10)]"
   ]
  },
  {
   "cell_type": "code",
   "execution_count": 77,
   "metadata": {},
   "outputs": [],
   "source": [
    "heading = 'LABEL   POLARITY   REVIEW_TEXT'\n",
    "with open('opspam.txt', 'w') as f:\n",
    "    f.write(heading)\n",
    "    f.write('\\n')\n",
    "    for line in rawData:\n",
    "        f.write(line)\n",
    "        f.write('\\n')"
   ]
  },
  {
   "cell_type": "code",
   "execution_count": null,
   "metadata": {},
   "outputs": [],
   "source": []
  }
 ],
 "metadata": {
  "interpreter": {
   "hash": "1bf0f833311fc1a2d9ca1cf8207d63bf4ae3af89d2c46669381eed313e768b9d"
  },
  "kernelspec": {
   "display_name": "Python 3.8.12 ('SNLP')",
   "language": "python",
   "name": "python3"
  },
  "language_info": {
   "codemirror_mode": {
    "name": "ipython",
    "version": 3
   },
   "file_extension": ".py",
   "mimetype": "text/x-python",
   "name": "python",
   "nbconvert_exporter": "python",
   "pygments_lexer": "ipython3",
   "version": "3.8.12"
  },
  "orig_nbformat": 4
 },
 "nbformat": 4,
 "nbformat_minor": 2
}
