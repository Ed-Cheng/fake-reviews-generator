{
 "cells": [
  {
   "cell_type": "markdown",
   "metadata": {},
   "source": [
    "Note that most of this notebook directly come from online source, the code layout is pretty bad, might take a while to understand what the original author is writing "
   ]
  },
  {
   "cell_type": "code",
   "execution_count": 2,
   "metadata": {},
   "outputs": [
    {
     "name": "stderr",
     "output_type": "stream",
     "text": [
      "[nltk_data] Downloading package punkt to\n",
      "[nltk_data]     C:\\Users\\edton\\AppData\\Roaming\\nltk_data...\n",
      "[nltk_data]   Package punkt is already up-to-date!\n"
     ]
    },
    {
     "data": {
      "text/plain": [
       "True"
      ]
     },
     "execution_count": 2,
     "metadata": {},
     "output_type": "execute_result"
    }
   ],
   "source": [
    "import csv                               # csv reader\n",
    "from sklearn.svm import LinearSVC\n",
    "from nltk.classify import SklearnClassifier\n",
    "from random import shuffle\n",
    "from sklearn.pipeline import Pipeline\n",
    "from sklearn.feature_extraction.text import CountVectorizer\n",
    "from sklearn.metrics import precision_recall_fscore_support\n",
    "from sklearn.metrics import accuracy_score\n",
    "import numpy as np\n",
    "import nltk\n",
    "from nltk.tokenize import word_tokenize\n",
    "nltk.download('punkt')"
   ]
  },
  {
   "cell_type": "code",
   "execution_count": 59,
   "metadata": {},
   "outputs": [],
   "source": [
    "import string\n",
    "from nltk.stem.wordnet import WordNetLemmatizer\n",
    "from nltk.corpus import stopwords\n"
   ]
  },
  {
   "cell_type": "code",
   "execution_count": 117,
   "metadata": {},
   "outputs": [],
   "source": [
    "# load data from a file and append it to the rawData\n",
    "def loadData(path, Text=None):\n",
    "    with open(path, encoding=\"utf8\") as f:\n",
    "        reader = csv.reader(f)\n",
    "\n",
    "        next(reader)\n",
    "        for line in reader:\n",
    "            (Id, Rating, verified_Purchase, product_Category, Text, Label) = parseReview(line)\n",
    "            rawData.append((Id, Rating, verified_Purchase, product_Category, Text, Label))\n",
    "            #preprocessedData.append((Id, preProcess(Text), Label))\n",
    "        \n",
    "\n",
    "def splitData(percentage):\n",
    "    dataSamples = len(rawData)\n",
    "    halfOfData = int(len(rawData)/2)\n",
    "    trainingSamples = int((percentage*dataSamples)/2)\n",
    "    for (_, Rating, verified_Purchase, product_Category, Text, Label) in rawData[:trainingSamples] + rawData[halfOfData:halfOfData+trainingSamples]:\n",
    "        trainData.append((toFeatureVector(Rating, verified_Purchase, product_Category, preProcess(Text)),Label))\n",
    "    for (_, Rating, verified_Purchase, product_Category, Text, Label) in rawData[trainingSamples:halfOfData] + rawData[halfOfData+trainingSamples:]:\n",
    "        testData.append((toFeatureVector(Rating, verified_Purchase, product_Category, preProcess(Text)),Label))\n",
    "# QUESTION 1\n",
    "\n",
    "\n",
    "# Convert line from input file into an id/text/label tuple\n",
    "def parseReview(reviewLine):\n",
    "    # Should return a triple of an integer, a string containing the review, and a string indicating the label\n",
    "    s=\"\"\n",
    "    if reviewLine[1]==\"__label1__\":\n",
    "        s = \"fake\"\n",
    "    else: \n",
    "        s = \"real\"\n",
    "    return (reviewLine[0], reviewLine[2], reviewLine[3],reviewLine[4], reviewLine[8], s)\n",
    "# TEXT PREPROCESSING AND FEATURE VECTORIZATION\n",
    "# Input: a string of one review\n",
    "table = str.maketrans({key: None for key in string.punctuation})\n",
    "\n",
    "\n",
    "def preProcess(text):\n",
    "    # Should return a list of tokens\n",
    "    lemmatizer = WordNetLemmatizer()\n",
    "    filtered_tokens=[]\n",
    "    lemmatized_tokens = []\n",
    "    stop_words = set(stopwords.words('english'))\n",
    "    text = text.translate(table)\n",
    "    for w in text.split(\" \"):\n",
    "\n",
    "        ######################## try without removing ################################################################\n",
    "        lemmatized_tokens.append(lemmatizer.lemmatize(w.lower()))\n",
    "\n",
    "\n",
    "        # if w not in stop_words:\n",
    "        #     lemmatized_tokens.append(lemmatizer.lemmatize(w.lower()))\n",
    "        filtered_tokens = [' '.join(l) for l in nltk.bigrams(lemmatized_tokens)] + lemmatized_tokens\n",
    "    return filtered_tokens\n",
    "featureDict = {} # A global dictionary of features\n",
    "\n",
    "\n",
    "def toFeatureVector(Rating, verified_Purchase, product_Category, tokens):\n",
    "    localDict = {}\n",
    "    \n",
    "#Rating\n",
    "\n",
    "    #print(Rating)\n",
    "    featureDict[\"R\"] = 1   \n",
    "    localDict[\"R\"] = Rating\n",
    "\n",
    "# #Verified_Purchase\n",
    "  \n",
    "#     featureDict[\"VP\"] = 1\n",
    "            \n",
    "#     if verified_Purchase == \"N\":\n",
    "#         localDict[\"VP\"] = 0\n",
    "#     else:\n",
    "#         localDict[\"VP\"] = 1\n",
    "\n",
    "# #Product_Category\n",
    "\n",
    "    \n",
    "#     if product_Category not in featureDict:\n",
    "#         featureDict[product_Category] = 1\n",
    "#     else:\n",
    "#         featureDict[product_Category] = +1\n",
    "            \n",
    "#     if product_Category not in localDict:\n",
    "#         localDict[product_Category] = 1\n",
    "#     else:\n",
    "#         localDict[product_Category] = +1\n",
    "            \n",
    "            \n",
    "#Text        \n",
    "\n",
    "    for token in tokens:\n",
    "        if token not in featureDict:\n",
    "            featureDict[token] = 1\n",
    "        else:\n",
    "            featureDict[token] = +1\n",
    "            \n",
    "        if token not in localDict:\n",
    "            localDict[token] = 1\n",
    "        else:\n",
    "            localDict[token] = +1\n",
    "    \n",
    "    return localDict"
   ]
  },
  {
   "cell_type": "code",
   "execution_count": 24,
   "metadata": {},
   "outputs": [],
   "source": [
    "import os\n",
    "from utils.configs import config\n",
    "from utils.loader import DataLoader\n",
    "\n"
   ]
  },
  {
   "cell_type": "code",
   "execution_count": 91,
   "metadata": {},
   "outputs": [
    {
     "name": "stdout",
     "output_type": "stream",
     "text": [
      "data\\amazon_reviews\\train\\amazon_reviews.txt\n"
     ]
    }
   ],
   "source": [
    "path = os.path.join(config['base_path'], config['amazon_path'], 'train')\n",
    "reviewPath = DataLoader.list_all_txt_files(path)[0]\n",
    "print(reviewPath)"
   ]
  },
  {
   "cell_type": "code",
   "execution_count": 118,
   "metadata": {},
   "outputs": [
    {
     "name": "stdout",
     "output_type": "stream",
     "text": [
      "Now 0 rawData, 0 trainData, 0 testData\n",
      "Preparing the dataset...\n",
      "Now 15750 rawData, 0 trainData, 0 testData\n",
      "Preparing training and test data...\n",
      "Now 15750 rawData, 12600 trainData, 3150 testData\n",
      "Training Samples: \n",
      "12600\n",
      "Features: \n",
      "365197\n"
     ]
    }
   ],
   "source": [
    "# MAIN\n",
    "\n",
    "# loading reviews\n",
    "rawData = []          # the filtered data from the dataset file (should be 21000 samples)\n",
    "preprocessedData = [] # the preprocessed reviews (just to see how your preprocessing is doing)\n",
    "trainData = []        # the training data as a percentage of the total dataset (currently 80%, or 16800 samples)\n",
    "testData = []         # the test data as a percentage of the total dataset (currently 20%, or 4200 samples)\n",
    "\n",
    "# the output classes\n",
    "fakeLabel = 'fake'\n",
    "realLabel = 'real'\n",
    "\n",
    "# references to the data files\n",
    "path = os.path.join(config['base_path'], config['amazon_path'], 'train')\n",
    "reviewPath = DataLoader.list_all_txt_files(path)[0]\n",
    "\n",
    "## Do the actual stuff\n",
    "# We parse the dataset and put it in a raw data list\n",
    "print(\"Now %d rawData, %d trainData, %d testData\" % (len(rawData), len(trainData), len(testData)),\n",
    "      \"Preparing the dataset...\",sep='\\n')\n",
    "\n",
    "loadData(reviewPath) \n",
    "\n",
    "\n",
    "# We split the raw dataset into a set of training data and a set of test data (80/20)\n",
    "print(\"Now %d rawData, %d trainData, %d testData\" % (len(rawData), len(trainData), len(testData)),\n",
    "      \"Preparing training and test data...\",sep='\\n')\n",
    "\n",
    "      \n",
    "splitData(0.8)\n",
    "# We print the number of training samples and the number of features\n",
    "print(\"Now %d rawData, %d trainData, %d testData\" % (len(rawData), len(trainData), len(testData)),\n",
    "      \"Training Samples: \", len(trainData), \"Features: \", len(featureDict), sep='\\n')\n",
    "\n",
    "\n"
   ]
  },
  {
   "cell_type": "code",
   "execution_count": 93,
   "metadata": {},
   "outputs": [],
   "source": [
    "# TRAINING AND VALIDATING OUR CLASSIFIER\n",
    "def trainClassifier(trainData):\n",
    "    print(\"Training Classifier...\")\n",
    "    pipeline =  Pipeline([('svc', LinearSVC())])\n",
    "    return SklearnClassifier(pipeline).train(trainData)\n",
    "\n",
    "\n",
    "def predictLabels(reviewSamples, classifier):\n",
    "    return classifier.classify_many(map(lambda t: t[0], reviewSamples))\n",
    "    \n",
    "\n",
    "def crossValidate(dataset, folds):\n",
    "    shuffle(dataset)\n",
    "    cv_results = []\n",
    "    foldSize = int(len(dataset)/folds)\n",
    "    for i in range(0,len(dataset),foldSize):\n",
    "        classifier = trainClassifier(dataset[:i]+dataset[foldSize+i:])\n",
    "        y_pred = predictLabels(dataset[i:i+foldSize],classifier)\n",
    "        a = accuracy_score(list(map(lambda d : d[1], dataset[i:i+foldSize])), y_pred)\n",
    "        (p,r,f,_) = precision_recall_fscore_support(list(map(lambda d : d[1], dataset[i:i+foldSize])), y_pred, average ='macro')\n",
    "        #print(a,p,r,f)\n",
    "        cv_results.append((a,p,r,f))\n",
    "    cv_results = (np.mean(np.array(cv_results),axis=0))\n",
    "    return cv_results"
   ]
  },
  {
   "cell_type": "code",
   "execution_count": 102,
   "metadata": {},
   "outputs": [],
   "source": [
    "# additional classifiers\n",
    "from sklearn.naive_bayes import MultinomialNB,BernoulliNB\n",
    "from sklearn.linear_model import LogisticRegression\n",
    "\n",
    "def MNB_Classifier(trainData):\n",
    "    print(\"Training Classifier...\")\n",
    "    MNB_classifier = SklearnClassifier(MultinomialNB())\n",
    "    return MNB_classifier.train(trainData)\n",
    "\n",
    "\n",
    "def BernoulliNB_Classifier(trainData):\n",
    "    print(\"Training Classifier...\")\n",
    "    BernoulliNB_classifier = SklearnClassifier(BernoulliNB())\n",
    "    return BernoulliNB_classifier.train(trainData)\n",
    "\n",
    "\n",
    "def LogisticRegression_Classifier(trainData):\n",
    "    print(\"Training Classifier...\")\n",
    "    LogisticRegression_classifier = SklearnClassifier(LogisticRegression(max_iter=1000))\n",
    "    return LogisticRegression_classifier.train(trainData)\n",
    "\n"
   ]
  },
  {
   "cell_type": "code",
   "execution_count": 72,
   "metadata": {},
   "outputs": [
    {
     "name": "stdout",
     "output_type": "stream",
     "text": [
      "Training Classifier...\n",
      "Training Classifier...\n",
      "Training Classifier...\n",
      "Training Classifier...\n",
      "Training Classifier...\n",
      "Training Classifier...\n",
      "Training Classifier...\n",
      "Training Classifier...\n",
      "Training Classifier...\n",
      "Training Classifier...\n",
      "Mean of cross-validations (Accuracy, Precision, Recall, Fscore):  [0.80650794 0.80681578 0.80677157 0.80629623]\n"
     ]
    }
   ],
   "source": [
    "print(\"Mean of cross-validations (Accuracy, Precision, Recall, Fscore): \", crossValidate(trainData, 10))\n"
   ]
  },
  {
   "cell_type": "code",
   "execution_count": 119,
   "metadata": {},
   "outputs": [
    {
     "name": "stdout",
     "output_type": "stream",
     "text": [
      "Training Classifier...\n",
      "accuracy:  0.6695238095238095\n",
      "Precision:  0.6696234206039091\n",
      "Recall:  0.6695238095238095\n",
      "f1-score:  0.6695221775345628\n"
     ]
    }
   ],
   "source": [
    "#  TEST DATA\n",
    "classifier = trainClassifier(trainData)\n",
    "predictions = predictLabels(testData, classifier)\n",
    "true_labels = list(map(lambda d: d[1], testData))\n",
    "a = accuracy_score(true_labels, predictions)\n",
    "p, r, f1, _ = precision_recall_fscore_support(true_labels, predictions, average='macro')\n",
    "print(\"accuracy: \", a)\n",
    "print(\"Precision: \", p)\n",
    "print(\"Recall: \", a)\n",
    "print(\"f1-score: \", f1)"
   ]
  },
  {
   "cell_type": "code",
   "execution_count": 115,
   "metadata": {},
   "outputs": [
    {
     "name": "stdout",
     "output_type": "stream",
     "text": [
      "Training Classifier...\n",
      "accuracy:  0.6866666666666666\n",
      "Precision:  0.6873326413045806\n",
      "Recall:  0.6866666666666666\n",
      "f1-score:  0.6865491206125269\n"
     ]
    }
   ],
   "source": [
    "#  TEST DATA\n",
    "classifier = MNB_Classifier(trainData)\n",
    "predictions = predictLabels(testData, classifier)\n",
    "true_labels = list(map(lambda d: d[1], testData))\n",
    "a = accuracy_score(true_labels, predictions)\n",
    "p, r, f1, _ = precision_recall_fscore_support(true_labels, predictions, average='macro')\n",
    "print(\"accuracy: \", a)\n",
    "print(\"Precision: \", p)\n",
    "print(\"Recall: \", a)\n",
    "print(\"f1-score: \", f1)"
   ]
  },
  {
   "cell_type": "code",
   "execution_count": 98,
   "metadata": {},
   "outputs": [
    {
     "name": "stdout",
     "output_type": "stream",
     "text": [
      "Training Classifier...\n",
      "accuracy:  0.5984126984126984\n",
      "Precision:  0.6800718357427494\n",
      "Recall:  0.5984126984126984\n",
      "f1-score:  0.5508559351884466\n"
     ]
    }
   ],
   "source": [
    "#  TEST DATA\n",
    "classifier = BernoulliNB_Classifier(trainData)\n",
    "predictions = predictLabels(testData, classifier)\n",
    "true_labels = list(map(lambda d: d[1], testData))\n",
    "a = accuracy_score(true_labels, predictions)\n",
    "p, r, f1, _ = precision_recall_fscore_support(true_labels, predictions, average='macro')\n",
    "print(\"accuracy: \", a)\n",
    "print(\"Precision: \", p)\n",
    "print(\"Recall: \", a)\n",
    "print(\"f1-score: \", f1)"
   ]
  },
  {
   "cell_type": "code",
   "execution_count": 121,
   "metadata": {},
   "outputs": [
    {
     "name": "stdout",
     "output_type": "stream",
     "text": [
      "Training Classifier...\n",
      "accuracy:  0.6946031746031746\n",
      "Precision:  0.6947142368682502\n",
      "Recall:  0.6946031746031746\n",
      "f1-score:  0.6946012047847927\n"
     ]
    }
   ],
   "source": [
    "#  TEST DATA\n",
    "classifier = LogisticRegression_Classifier(trainData)\n",
    "predictions = predictLabels(testData, classifier)\n",
    "true_labels = list(map(lambda d: d[1], testData))\n",
    "a = accuracy_score(true_labels, predictions)\n",
    "p, r, f1, _ = precision_recall_fscore_support(true_labels, predictions, average='macro')\n",
    "print(\"accuracy: \", a)\n",
    "print(\"Precision: \", p)\n",
    "print(\"Recall: \", a)\n",
    "print(\"f1-score: \", f1)"
   ]
  },
  {
   "cell_type": "code",
   "execution_count": 95,
   "metadata": {},
   "outputs": [
    {
     "name": "stdout",
     "output_type": "stream",
     "text": [
      "Acc: 0.8\n"
     ]
    }
   ],
   "source": [
    "test_samples = testData\n",
    "pred = predictLabels(test_samples, classifier)\n",
    "summ = 0\n",
    "for i in range(len(test_samples)):\n",
    "    correct = np.where(test_samples[i][1] == pred[i], 1, 0)\n",
    "    # print(f'True: {test_samples[i][1]}, Predict: {pred[i]},   {correct}')\n",
    "    summ += correct\n",
    "\n",
    "print(f'Acc: {summ/len(test_samples)}')\n"
   ]
  },
  {
   "cell_type": "code",
   "execution_count": 106,
   "metadata": {},
   "outputs": [
    {
     "data": {
      "text/plain": [
       "list"
      ]
     },
     "execution_count": 106,
     "metadata": {},
     "output_type": "execute_result"
    }
   ],
   "source": [
    "type(trainData)"
   ]
  },
  {
   "cell_type": "code",
   "execution_count": 120,
   "metadata": {},
   "outputs": [
    {
     "data": {
      "text/plain": [
       "({'R': '5',\n",
       "  'i didnt': 1,\n",
       "  'didnt really': 1,\n",
       "  'really like': 1,\n",
       "  'like putting': 1,\n",
       "  'putting the': 1,\n",
       "  'the studio': 1,\n",
       "  'studio rta': 1,\n",
       "  'rta atower': 1,\n",
       "  'atower corner': 1,\n",
       "  'corner wood': 1,\n",
       "  'wood computer': 1,\n",
       "  'computer desk': 1,\n",
       "  'desk with': 1,\n",
       "  'with hutch': 1,\n",
       "  'hutch in': 1,\n",
       "  'in pewter': 1,\n",
       "  'pewter and': 1,\n",
       "  'and cherry': 1,\n",
       "  'cherry together': 1,\n",
       "  'together but': 1,\n",
       "  'but it': 1,\n",
       "  'it work': 1,\n",
       "  'work great': 1,\n",
       "  'great and': 1,\n",
       "  'and fit': 1,\n",
       "  'fit into': 1,\n",
       "  'into my': 1,\n",
       "  'my small': 1,\n",
       "  'small office': 1,\n",
       "  'office corner': 1,\n",
       "  'i': 1,\n",
       "  'didnt': 1,\n",
       "  'really': 1,\n",
       "  'like': 1,\n",
       "  'putting': 1,\n",
       "  'the': 1,\n",
       "  'studio': 1,\n",
       "  'rta': 1,\n",
       "  'atower': 1,\n",
       "  'corner': 1,\n",
       "  'wood': 1,\n",
       "  'computer': 1,\n",
       "  'desk': 1,\n",
       "  'with': 1,\n",
       "  'hutch': 1,\n",
       "  'in': 1,\n",
       "  'pewter': 1,\n",
       "  'and': 1,\n",
       "  'cherry': 1,\n",
       "  'together': 1,\n",
       "  'but': 1,\n",
       "  'it': 1,\n",
       "  'work': 1,\n",
       "  'great': 1,\n",
       "  'fit': 1,\n",
       "  'into': 1,\n",
       "  'my': 1,\n",
       "  'small': 1,\n",
       "  'office': 1},\n",
       " 'fake')"
      ]
     },
     "execution_count": 120,
     "metadata": {},
     "output_type": "execute_result"
    }
   ],
   "source": [
    "(trainData[1])"
   ]
  },
  {
   "cell_type": "code",
   "execution_count": null,
   "metadata": {},
   "outputs": [],
   "source": []
  }
 ],
 "metadata": {
  "interpreter": {
   "hash": "1bf0f833311fc1a2d9ca1cf8207d63bf4ae3af89d2c46669381eed313e768b9d"
  },
  "kernelspec": {
   "display_name": "Python 3.8.12 ('SNLP')",
   "language": "python",
   "name": "python3"
  },
  "language_info": {
   "codemirror_mode": {
    "name": "ipython",
    "version": 3
   },
   "file_extension": ".py",
   "mimetype": "text/x-python",
   "name": "python",
   "nbconvert_exporter": "python",
   "pygments_lexer": "ipython3",
   "version": "3.8.12"
  },
  "orig_nbformat": 4
 },
 "nbformat": 4,
 "nbformat_minor": 2
}
