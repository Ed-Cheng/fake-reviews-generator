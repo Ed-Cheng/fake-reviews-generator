{
 "cells": [
  {
   "cell_type": "markdown",
   "metadata": {},
   "source": [
    "Note that most of this notebook directly come from online source, the code layout is pretty bad, might take a while to understand what the original author is writing "
   ]
  },
  {
   "cell_type": "markdown",
   "metadata": {},
   "source": [
    "https://scikit-learn.org/stable/modules/classes.html#"
   ]
  },
  {
   "cell_type": "code",
   "execution_count": 1,
   "metadata": {},
   "outputs": [
    {
     "name": "stderr",
     "output_type": "stream",
     "text": [
      "[nltk_data] Downloading package punkt to\n",
      "[nltk_data]     C:\\Users\\edton\\AppData\\Roaming\\nltk_data...\n",
      "[nltk_data]   Package punkt is already up-to-date!\n"
     ]
    },
    {
     "data": {
      "text/plain": [
       "True"
      ]
     },
     "execution_count": 1,
     "metadata": {},
     "output_type": "execute_result"
    }
   ],
   "source": [
    "import csv                               # csv reader\n",
    "from sklearn.svm import LinearSVC\n",
    "from nltk.classify import SklearnClassifier\n",
    "from random import shuffle\n",
    "from sklearn.pipeline import Pipeline\n",
    "from sklearn.feature_extraction.text import CountVectorizer\n",
    "from sklearn.metrics import precision_recall_fscore_support\n",
    "from sklearn.metrics import accuracy_score\n",
    "import numpy as np\n",
    "import nltk\n",
    "from nltk.tokenize import word_tokenize\n",
    "nltk.download('punkt')"
   ]
  },
  {
   "cell_type": "code",
   "execution_count": 2,
   "metadata": {},
   "outputs": [],
   "source": [
    "import string\n",
    "from nltk.stem.wordnet import WordNetLemmatizer\n",
    "from nltk.corpus import stopwords\n",
    "import random"
   ]
  },
  {
   "cell_type": "code",
   "execution_count": null,
   "metadata": {},
   "outputs": [],
   "source": []
  },
  {
   "cell_type": "code",
   "execution_count": 8,
   "metadata": {},
   "outputs": [],
   "source": [
    "# load data from a file and append it to the rawData\n",
    "def loadGoldData(shuffle = True):\n",
    "    loader = DataLoader()\n",
    "    dec_data = loader.load_gold_data(_type = 'dec', neg_polarity=True, pos_polarity=True)\n",
    "    truth_data = loader.load_gold_data(_type = 'truth', neg_polarity=True, pos_polarity=True)\n",
    "\n",
    "    data = []\n",
    "\n",
    "    for i in range(len(dec_data)):\n",
    "        data.append((dec_data[i], 'fake'))\n",
    "        data.append((truth_data[i], 'real'))\n",
    "\n",
    "    if shuffle:\n",
    "        random.shuffle(data)\n",
    "    return data\n",
    "\n",
    "# load data from a file and append it to the rawData\n",
    "def loadData(path, Text=None):\n",
    "    with open(path, encoding=\"utf8\") as f:\n",
    "        reader = csv.reader(f)\n",
    "\n",
    "        next(reader)\n",
    "        for line in reader:\n",
    "            (Id, Rating, verified_Purchase, product_Category, Text, Label) = parseReview(line)\n",
    "            rawData.append((Id, Rating, verified_Purchase, product_Category, Text, Label))\n",
    "            #preprocessedData.append((Id, preProcess(Text), Label))\n",
    "        \n",
    "\n",
    "def splitData(percentage):\n",
    "    dataSamples = len(rawData)\n",
    "    halfOfData = int(len(rawData)/2)\n",
    "    trainingSamples = int((percentage*dataSamples)/2)\n",
    "    for (_, Rating, verified_Purchase, product_Category, Text, Label) in rawData[:trainingSamples] + rawData[halfOfData:halfOfData+trainingSamples]:\n",
    "        trainData.append((toFeatureVector(preProcess(Text)),Label))\n",
    "        # trainData.append((toFeatureVector(Rating, verified_Purchase, product_Category, preProcess(Text)),Label))\n",
    "    for (_, Rating, verified_Purchase, product_Category, Text, Label) in rawData[trainingSamples:halfOfData] + rawData[halfOfData+trainingSamples:]:\n",
    "        testData.append((toFeatureVector(preProcess(Text)),Label))\n",
    "# QUESTION 1\n",
    "\n",
    "\n",
    "# Convert line from input file into an id/text/label tuple\n",
    "def parseReview(reviewLine):\n",
    "    # Should return a triple of an integer, a string containing the review, and a string indicating the label\n",
    "    s=\"\"\n",
    "    if reviewLine[1]==\"__label1__\":\n",
    "        s = \"fake\"\n",
    "    else: \n",
    "        s = \"real\"\n",
    "    return (reviewLine[0], reviewLine[2], reviewLine[3],reviewLine[4], reviewLine[8], s)\n",
    "# TEXT PREPROCESSING AND FEATURE VECTORIZATION\n",
    "# Input: a string of one review\n",
    "table = str.maketrans({key: None for key in string.punctuation})\n",
    "\n",
    "\n",
    "def preProcess(text):\n",
    "    # Should return a list of tokens\n",
    "    lemmatizer = WordNetLemmatizer()\n",
    "    filtered_tokens=[]\n",
    "    lemmatized_tokens = []\n",
    "    stop_words = set(stopwords.words('english'))\n",
    "    text = text.translate(table)\n",
    "    for w in text.split(\" \"):\n",
    "\n",
    "        ######################## try without removing ################################################################\n",
    "        lemmatized_tokens.append(lemmatizer.lemmatize(w.lower()))\n",
    "\n",
    "\n",
    "        # if w not in stop_words:\n",
    "        #     lemmatized_tokens.append(lemmatizer.lemmatize(w.lower()))\n",
    "        filtered_tokens = [' '.join(l) for l in nltk.bigrams(lemmatized_tokens)] + lemmatized_tokens\n",
    "    return filtered_tokens\n",
    "featureDict = {} # A global dictionary of features\n",
    "\n",
    "\n",
    "# def toFeatureVector(Rating, verified_Purchase, product_Category, tokens):\n",
    "def toFeatureVector(tokens):\n",
    "\n",
    "    localDict = {}\n",
    "    \n",
    "# #Rating\n",
    "\n",
    "#     #print(Rating)\n",
    "#     featureDict[\"R\"] = 1   \n",
    "#     localDict[\"R\"] = Rating\n",
    "\n",
    "# #Verified_Purchase\n",
    "  \n",
    "#     featureDict[\"VP\"] = 1\n",
    "            \n",
    "#     if verified_Purchase == \"N\":\n",
    "#         localDict[\"VP\"] = 0\n",
    "#     else:\n",
    "#         localDict[\"VP\"] = 1\n",
    "\n",
    "# #Product_Category\n",
    "\n",
    "    \n",
    "#     if product_Category not in featureDict:\n",
    "#         featureDict[product_Category] = 1\n",
    "#     else:\n",
    "#         featureDict[product_Category] = +1\n",
    "            \n",
    "#     if product_Category not in localDict:\n",
    "#         localDict[product_Category] = 1\n",
    "#     else:\n",
    "#         localDict[product_Category] = +1\n",
    "            \n",
    "            \n",
    "#Text        \n",
    "\n",
    "    for token in tokens:\n",
    "        if token not in featureDict:\n",
    "            featureDict[token] = 1\n",
    "        else:\n",
    "            featureDict[token] = +1\n",
    "            \n",
    "        if token not in localDict:\n",
    "            localDict[token] = 1\n",
    "        else:\n",
    "            localDict[token] = +1\n",
    "    \n",
    "    return localDict"
   ]
  },
  {
   "cell_type": "code",
   "execution_count": 4,
   "metadata": {},
   "outputs": [],
   "source": [
    "import os\n",
    "from utils.configs import config\n",
    "from utils.loader import DataLoader\n",
    "\n"
   ]
  },
  {
   "cell_type": "code",
   "execution_count": 5,
   "metadata": {},
   "outputs": [
    {
     "name": "stdout",
     "output_type": "stream",
     "text": [
      "data\\amazon_reviews\\train\\amazon_reviews.txt\n"
     ]
    }
   ],
   "source": [
    "path = os.path.join(config['base_path'], config['amazon_path'], 'train')\n",
    "reviewPath = DataLoader.list_all_txt_files(path)[0]\n",
    "print(reviewPath)"
   ]
  },
  {
   "cell_type": "code",
   "execution_count": 9,
   "metadata": {},
   "outputs": [
    {
     "name": "stdout",
     "output_type": "stream",
     "text": [
      "Now 0 rawData, 0 trainData, 0 testData\n",
      "Preparing the dataset...\n",
      "Now 15750 rawData, 0 trainData, 0 testData\n",
      "Preparing training and test data...\n",
      "Now 15750 rawData, 12600 trainData, 3150 testData\n",
      "Training Samples: \n",
      "12600\n",
      "Features: \n",
      "365196\n"
     ]
    }
   ],
   "source": [
    "# MAIN\n",
    "\n",
    "# loading reviews\n",
    "rawData = []          # the filtered data from the dataset file (should be 21000 samples)\n",
    "preprocessedData = [] # the preprocessed reviews (just to see how your preprocessing is doing)\n",
    "trainData = []        # the training data as a percentage of the total dataset (currently 80%, or 16800 samples)\n",
    "testData = []         # the test data as a percentage of the total dataset (currently 20%, or 4200 samples)\n",
    "\n",
    "# the output classes\n",
    "fakeLabel = 'fake'\n",
    "realLabel = 'real'\n",
    "\n",
    "# references to the data files\n",
    "path = os.path.join(config['base_path'], config['amazon_path'], 'train')\n",
    "reviewPath = DataLoader.list_all_txt_files(path)[0]\n",
    "\n",
    "## Do the actual stuff\n",
    "# We parse the dataset and put it in a raw data list\n",
    "print(\"Now %d rawData, %d trainData, %d testData\" % (len(rawData), len(trainData), len(testData)),\n",
    "      \"Preparing the dataset...\",sep='\\n')\n",
    "\n",
    "loadData(reviewPath) \n",
    "\n",
    "\n",
    "# We split the raw dataset into a set of training data and a set of test data (80/20)\n",
    "print(\"Now %d rawData, %d trainData, %d testData\" % (len(rawData), len(trainData), len(testData)),\n",
    "      \"Preparing training and test data...\",sep='\\n')\n",
    "\n",
    "      \n",
    "splitData(0.8)\n",
    "# We print the number of training samples and the number of features\n",
    "print(\"Now %d rawData, %d trainData, %d testData\" % (len(rawData), len(trainData), len(testData)),\n",
    "      \"Training Samples: \", len(trainData), \"Features: \", len(featureDict), sep='\\n')\n",
    "\n",
    "\n"
   ]
  },
  {
   "cell_type": "code",
   "execution_count": 10,
   "metadata": {},
   "outputs": [],
   "source": [
    "# TRAINING AND VALIDATING OUR CLASSIFIER\n",
    "def trainClassifier(trainData):\n",
    "    print(\"Training Classifier...\")\n",
    "    pipeline =  Pipeline([('svc', LinearSVC())])\n",
    "    return SklearnClassifier(pipeline).train(trainData)\n",
    "\n",
    "\n",
    "def predictLabels(reviewSamples, classifier):\n",
    "    return classifier.classify_many(map(lambda t: t[0], reviewSamples))\n",
    "    \n",
    "\n",
    "def crossValidate(dataset, folds):\n",
    "    shuffle(dataset)\n",
    "    cv_results = []\n",
    "    foldSize = int(len(dataset)/folds)\n",
    "    for i in range(0,len(dataset),foldSize):\n",
    "        classifier = trainClassifier(dataset[:i]+dataset[foldSize+i:])\n",
    "        y_pred = predictLabels(dataset[i:i+foldSize],classifier)\n",
    "        a = accuracy_score(list(map(lambda d : d[1], dataset[i:i+foldSize])), y_pred)\n",
    "        (p,r,f,_) = precision_recall_fscore_support(list(map(lambda d : d[1], dataset[i:i+foldSize])), y_pred, average ='macro')\n",
    "        #print(a,p,r,f)\n",
    "        cv_results.append((a,p,r,f))\n",
    "    cv_results = (np.mean(np.array(cv_results),axis=0))\n",
    "    return cv_results"
   ]
  },
  {
   "cell_type": "code",
   "execution_count": 21,
   "metadata": {},
   "outputs": [],
   "source": [
    "rawGold = loadGoldData(shuffle = True)"
   ]
  },
  {
   "cell_type": "code",
   "execution_count": 22,
   "metadata": {},
   "outputs": [],
   "source": [
    "testGold = []\n",
    "for (Text, Label) in rawGold:\n",
    "    testGold.append((toFeatureVector(preProcess(Text)),Label))"
   ]
  },
  {
   "cell_type": "code",
   "execution_count": 42,
   "metadata": {},
   "outputs": [],
   "source": [
    "####################################################\n",
    "# run this to change the testData\n",
    "\n",
    "# test_Data = testGold\n",
    "test_Data = testData\n",
    "\n",
    "\n",
    "####################################################"
   ]
  },
  {
   "cell_type": "code",
   "execution_count": 24,
   "metadata": {},
   "outputs": [],
   "source": [
    "# additional classifiers\n",
    "from sklearn.naive_bayes import MultinomialNB,BernoulliNB\n",
    "from sklearn.linear_model import LogisticRegression\n",
    "from sklearn.linear_model import SGDClassifier\n",
    "\n",
    "def MNB_Classifier(trainData):\n",
    "    print(\"Training Classifier...\")\n",
    "    MNB_classifier = SklearnClassifier(MultinomialNB())\n",
    "    return MNB_classifier.train(trainData)\n",
    "\n",
    "\n",
    "def BernoulliNB_Classifier(trainData):\n",
    "    print(\"Training Classifier...\")\n",
    "    BernoulliNB_classifier = SklearnClassifier(BernoulliNB())\n",
    "    return BernoulliNB_classifier.train(trainData)\n",
    "\n",
    "\n",
    "def LogisticRegression_Classifier(trainData):\n",
    "    print(\"Training Classifier...\")\n",
    "    LogisticRegression_classifier = SklearnClassifier(LogisticRegression(max_iter=1000))\n",
    "    return LogisticRegression_classifier.train(trainData)\n",
    "\n",
    "def SGDClassifier_Classifier(trainData):\n",
    "    print(\"Training Classifier...\")\n",
    "    SGDClassifier_classifier = SklearnClassifier(SGDClassifier())\n",
    "    return SGDClassifier_classifier.train(trainData)\n"
   ]
  },
  {
   "cell_type": "code",
   "execution_count": 25,
   "metadata": {},
   "outputs": [],
   "source": [
    "# print(\"Mean of cross-validations (Accuracy, Precision, Recall, Fscore): \", crossValidate(trainData, 10))\n"
   ]
  },
  {
   "cell_type": "code",
   "execution_count": 44,
   "metadata": {},
   "outputs": [
    {
     "name": "stdout",
     "output_type": "stream",
     "text": [
      "Training Classifier...\n",
      "accuracy:  0.6615873015873016\n",
      "Precision:  0.661758086996922\n",
      "Recall:  0.6615873015873016\n",
      "f1-score:  0.6615762510159062\n"
     ]
    }
   ],
   "source": [
    "#  TEST DATA\n",
    "classifier = trainClassifier(trainData)\n",
    "predictions = predictLabels(test_Data, classifier)\n",
    "true_labels = list(map(lambda d: d[1], test_Data))\n",
    "a = accuracy_score(true_labels, predictions)\n",
    "p, r, f1, _ = precision_recall_fscore_support(true_labels, predictions, average='macro')\n",
    "print(\"accuracy: \", a)\n",
    "print(\"Precision: \", p)\n",
    "print(\"Recall: \", a)\n",
    "print(\"f1-score: \", f1)"
   ]
  },
  {
   "cell_type": "code",
   "execution_count": 45,
   "metadata": {},
   "outputs": [
    {
     "name": "stdout",
     "output_type": "stream",
     "text": [
      "Training Classifier...\n",
      "accuracy:  0.6866666666666666\n",
      "Precision:  0.6873326413045806\n",
      "Recall:  0.6866666666666666\n",
      "f1-score:  0.6865491206125269\n"
     ]
    }
   ],
   "source": [
    "#  TEST DATA\n",
    "classifier = MNB_Classifier(trainData)\n",
    "predictions = predictLabels(test_Data, classifier)\n",
    "true_labels = list(map(lambda d: d[1], test_Data))\n",
    "a = accuracy_score(true_labels, predictions)\n",
    "p, r, f1, _ = precision_recall_fscore_support(true_labels, predictions, average='macro')\n",
    "print(\"accuracy: \", a)\n",
    "print(\"Precision: \", p)\n",
    "print(\"Recall: \", a)\n",
    "print(\"f1-score: \", f1)"
   ]
  },
  {
   "cell_type": "code",
   "execution_count": 46,
   "metadata": {},
   "outputs": [
    {
     "name": "stdout",
     "output_type": "stream",
     "text": [
      "Training Classifier...\n",
      "accuracy:  0.5955555555555555\n",
      "Precision:  0.6752718791877126\n",
      "Recall:  0.5955555555555555\n",
      "f1-score:  0.5475558477823235\n"
     ]
    }
   ],
   "source": [
    "#  TEST DATA\n",
    "classifier = BernoulliNB_Classifier(trainData)\n",
    "predictions = predictLabels(test_Data, classifier)\n",
    "true_labels = list(map(lambda d: d[1], test_Data))\n",
    "a = accuracy_score(true_labels, predictions)\n",
    "p, r, f1, _ = precision_recall_fscore_support(true_labels, predictions, average='macro')\n",
    "print(\"accuracy: \", a)\n",
    "print(\"Precision: \", p)\n",
    "print(\"Recall: \", a)\n",
    "print(\"f1-score: \", f1)"
   ]
  },
  {
   "cell_type": "code",
   "execution_count": 29,
   "metadata": {},
   "outputs": [
    {
     "name": "stdout",
     "output_type": "stream",
     "text": [
      "Training Classifier...\n",
      "accuracy:  0.639375\n",
      "Precision:  0.6420113067746717\n",
      "Recall:  0.639375\n",
      "f1-score:  0.637693530011746\n"
     ]
    }
   ],
   "source": [
    "#  TEST DATA\n",
    "classifier = LogisticRegression_Classifier(trainData)\n",
    "predictions = predictLabels(test_Data, classifier)\n",
    "true_labels = list(map(lambda d: d[1], test_Data))\n",
    "a = accuracy_score(true_labels, predictions)\n",
    "p, r, f1, _ = precision_recall_fscore_support(true_labels, predictions, average='macro')\n",
    "print(\"accuracy: \", a)\n",
    "print(\"Precision: \", p)\n",
    "print(\"Recall: \", a)\n",
    "print(\"f1-score: \", f1)"
   ]
  },
  {
   "cell_type": "code",
   "execution_count": 30,
   "metadata": {},
   "outputs": [
    {
     "name": "stdout",
     "output_type": "stream",
     "text": [
      "Training Classifier...\n",
      "accuracy:  0.613125\n",
      "Precision:  0.6185410284580334\n",
      "Recall:  0.613125\n",
      "f1-score:  0.6086549529212383\n"
     ]
    }
   ],
   "source": [
    "#  TEST DATA\n",
    "classifier = SGDClassifier_Classifier(trainData)\n",
    "predictions = predictLabels(test_Data, classifier)\n",
    "true_labels = list(map(lambda d: d[1], test_Data))\n",
    "a = accuracy_score(true_labels, predictions)\n",
    "p, r, f1, _ = precision_recall_fscore_support(true_labels, predictions, average='macro')\n",
    "print(\"accuracy: \", a)\n",
    "print(\"Precision: \", p)\n",
    "print(\"Recall: \", a)\n",
    "print(\"f1-score: \", f1)"
   ]
  },
  {
   "cell_type": "code",
   "execution_count": 14,
   "metadata": {},
   "outputs": [
    {
     "name": "stdout",
     "output_type": "stream",
     "text": [
      "Acc: 0.68\n"
     ]
    }
   ],
   "source": [
    "test_samples = testData\n",
    "pred = predictLabels(test_samples, classifier)\n",
    "summ = 0\n",
    "for i in range(len(test_samples)):\n",
    "    correct = np.where(test_samples[i][1] == pred[i], 1, 0)\n",
    "    # print(f'True: {test_samples[i][1]}, Predict: {pred[i]},   {correct}')\n",
    "    summ += correct\n",
    "\n",
    "print(f'Acc: {summ/len(test_samples)}')\n"
   ]
  },
  {
   "cell_type": "code",
   "execution_count": 15,
   "metadata": {},
   "outputs": [
    {
     "data": {
      "text/plain": [
       "list"
      ]
     },
     "execution_count": 15,
     "metadata": {},
     "output_type": "execute_result"
    }
   ],
   "source": [
    "type(trainData)"
   ]
  },
  {
   "cell_type": "code",
   "execution_count": 16,
   "metadata": {},
   "outputs": [
    {
     "name": "stdout",
     "output_type": "stream",
     "text": [
      "{'i didnt': 1, 'didnt really': 1, 'really like': 1, 'like putting': 1, 'putting the': 1, 'the studio': 1, 'studio rta': 1, 'rta atower': 1, 'atower corner': 1, 'corner wood': 1, 'wood computer': 1, 'computer desk': 1, 'desk with': 1, 'with hutch': 1, 'hutch in': 1, 'in pewter': 1, 'pewter and': 1, 'and cherry': 1, 'cherry together': 1, 'together but': 1, 'but it': 1, 'it work': 1, 'work great': 1, 'great and': 1, 'and fit': 1, 'fit into': 1, 'into my': 1, 'my small': 1, 'small office': 1, 'office corner': 1, 'i': 1, 'didnt': 1, 'really': 1, 'like': 1, 'putting': 1, 'the': 1, 'studio': 1, 'rta': 1, 'atower': 1, 'corner': 1, 'wood': 1, 'computer': 1, 'desk': 1, 'with': 1, 'hutch': 1, 'in': 1, 'pewter': 1, 'and': 1, 'cherry': 1, 'together': 1, 'but': 1, 'it': 1, 'work': 1, 'great': 1, 'fit': 1, 'into': 1, 'my': 1, 'small': 1, 'office': 1} fake\n"
     ]
    }
   ],
   "source": [
    "print(trainData[1][0], trainData[1][1])"
   ]
  },
  {
   "cell_type": "code",
   "execution_count": 17,
   "metadata": {},
   "outputs": [
    {
     "data": {
      "text/plain": [
       "dict"
      ]
     },
     "execution_count": 17,
     "metadata": {},
     "output_type": "execute_result"
    }
   ],
   "source": [
    "type(trainData[1][0])"
   ]
  },
  {
   "cell_type": "code",
   "execution_count": null,
   "metadata": {},
   "outputs": [],
   "source": [
    "classifier = trainClassifier(trainData)\n",
    "predictions = predictLabels(test_Data, classifier)\n",
    "true_labels = list(map(lambda d: d[1], test_Data))"
   ]
  },
  {
   "cell_type": "code",
   "execution_count": 47,
   "metadata": {},
   "outputs": [
    {
     "name": "stdout",
     "output_type": "stream",
     "text": [
      "Training Classifier...\n",
      "Iteration 1, loss = 0.60674646\n",
      "Iteration 2, loss = 0.16915381\n",
      "Iteration 3, loss = 0.03739610\n",
      "Iteration 4, loss = 0.01190748\n",
      "Iteration 5, loss = 0.00604867\n",
      "Iteration 6, loss = 0.00385130\n",
      "Iteration 7, loss = 0.00283067\n",
      "Iteration 8, loss = 0.00226345\n",
      "Iteration 9, loss = 0.00191653\n",
      "Iteration 10, loss = 0.00169138\n",
      "Iteration 11, loss = 0.00153529\n",
      "Iteration 12, loss = 0.00142295\n",
      "Iteration 13, loss = 0.00133724\n",
      "Iteration 14, loss = 0.00126776\n",
      "Iteration 15, loss = 0.00121308\n",
      "Iteration 16, loss = 0.00116794\n",
      "Iteration 17, loss = 0.00112959\n",
      "Iteration 18, loss = 0.00109644\n",
      "Iteration 19, loss = 0.00106716\n",
      "Iteration 20, loss = 0.00104369\n",
      "Iteration 21, loss = 0.00101888\n",
      "Iteration 22, loss = 0.00099648\n",
      "Iteration 23, loss = 0.00097614\n",
      "Training loss did not improve more than tol=0.000100 for 10 consecutive epochs. Stopping.\n",
      "accuracy:  0.665079365079365\n",
      "Precision:  0.6654168958574547\n",
      "Recall:  0.665079365079365\n",
      "f1-score:  0.6650331499503432\n"
     ]
    }
   ],
   "source": [
    "from sklearn.neural_network import MLPClassifier\n",
    "\n",
    "def MLPClassifier_Classifier(trainData):\n",
    "    print(\"Training Classifier...\")\n",
    "    MNB_classifier = SklearnClassifier(MLPClassifier(hidden_layer_sizes=(100,), max_iter=50, verbose=True))\n",
    "    return MNB_classifier.train(trainData)\n",
    "\n",
    "#  TEST DATA\n",
    "classifier = MLPClassifier_Classifier(trainData)\n",
    "predictions = predictLabels(test_Data, classifier)\n",
    "true_labels = list(map(lambda d: d[1], test_Data))\n",
    "a = accuracy_score(true_labels, predictions)\n",
    "p, r, f1, _ = precision_recall_fscore_support(true_labels, predictions, average='macro')\n",
    "print(\"accuracy: \", a)\n",
    "print(\"Precision: \", p)\n",
    "print(\"Recall: \", a)\n",
    "print(\"f1-score: \", f1)"
   ]
  },
  {
   "cell_type": "code",
   "execution_count": 43,
   "metadata": {},
   "outputs": [
    {
     "name": "stdout",
     "output_type": "stream",
     "text": [
      "accuracy:  0.6628571428571428\n",
      "Precision:  0.6633553245863717\n",
      "Recall:  0.6628571428571428\n",
      "f1-score:  0.6627652423497419\n"
     ]
    }
   ],
   "source": [
    "predictions = predictLabels(test_Data, classifier)\n",
    "true_labels = list(map(lambda d: d[1], test_Data))\n",
    "a = accuracy_score(true_labels, predictions)\n",
    "p, r, f1, _ = precision_recall_fscore_support(true_labels, predictions, average='macro')\n",
    "print(\"accuracy: \", a)\n",
    "print(\"Precision: \", p)\n",
    "print(\"Recall: \", a)\n",
    "print(\"f1-score: \", f1)"
   ]
  },
  {
   "cell_type": "code",
   "execution_count": null,
   "metadata": {},
   "outputs": [],
   "source": []
  }
 ],
 "metadata": {
  "interpreter": {
   "hash": "1bf0f833311fc1a2d9ca1cf8207d63bf4ae3af89d2c46669381eed313e768b9d"
  },
  "kernelspec": {
   "display_name": "Python 3.8.12 ('SNLP')",
   "language": "python",
   "name": "python3"
  },
  "language_info": {
   "codemirror_mode": {
    "name": "ipython",
    "version": 3
   },
   "file_extension": ".py",
   "mimetype": "text/x-python",
   "name": "python",
   "nbconvert_exporter": "python",
   "pygments_lexer": "ipython3",
   "version": "3.8.12"
  },
  "orig_nbformat": 4
 },
 "nbformat": 4,
 "nbformat_minor": 2
}
