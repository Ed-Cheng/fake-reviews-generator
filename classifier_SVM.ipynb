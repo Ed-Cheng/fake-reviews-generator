{
 "cells": [
  {
   "cell_type": "markdown",
   "metadata": {},
   "source": [
    "Note that most of this notebook directly come from online source, the code layout is pretty bad, might take a while to understand what the original author is writing "
   ]
  },
  {
   "cell_type": "markdown",
   "metadata": {},
   "source": [
    "https://scikit-learn.org/stable/modules/classes.html#"
   ]
  },
  {
   "cell_type": "code",
   "execution_count": 25,
   "metadata": {},
   "outputs": [
    {
     "name": "stderr",
     "output_type": "stream",
     "text": [
      "[nltk_data] Downloading package punkt to\n",
      "[nltk_data]     C:\\Users\\edton\\AppData\\Roaming\\nltk_data...\n",
      "[nltk_data]   Package punkt is already up-to-date!\n"
     ]
    },
    {
     "data": {
      "text/plain": [
       "True"
      ]
     },
     "execution_count": 25,
     "metadata": {},
     "output_type": "execute_result"
    }
   ],
   "source": [
    "import csv                               # csv reader\n",
    "from sklearn.svm import LinearSVC\n",
    "from nltk.classify import SklearnClassifier\n",
    "from random import shuffle\n",
    "from sklearn.pipeline import Pipeline\n",
    "from sklearn.feature_extraction.text import CountVectorizer\n",
    "from sklearn.metrics import precision_recall_fscore_support\n",
    "from sklearn.metrics import accuracy_score\n",
    "import numpy as np\n",
    "import nltk\n",
    "from nltk.tokenize import word_tokenize\n",
    "nltk.download('punkt')"
   ]
  },
  {
   "cell_type": "code",
   "execution_count": 26,
   "metadata": {},
   "outputs": [],
   "source": [
    "import string\n",
    "from nltk.stem.wordnet import WordNetLemmatizer\n",
    "from nltk.corpus import stopwords\n",
    "import random\n",
    "from vaderSentiment.vaderSentiment import SentimentIntensityAnalyzer\n"
   ]
  },
  {
   "cell_type": "code",
   "execution_count": 67,
   "metadata": {},
   "outputs": [],
   "source": [
    "# load data from a file and append it to the rawData\n",
    "def loadGoldData(shuffle = True):\n",
    "    loader = DataLoader()\n",
    "    dec_data = loader.load_gold_data(_type = 'dec', neg_polarity=True, pos_polarity=True)\n",
    "    truth_data = loader.load_gold_data(_type = 'truth', neg_polarity=True, pos_polarity=True)\n",
    "\n",
    "    data = []\n",
    "\n",
    "    for i in range(len(dec_data)):\n",
    "        data.append((dec_data[i], 'fake'))\n",
    "        data.append((truth_data[i], 'real'))\n",
    "\n",
    "    if shuffle:\n",
    "        random.shuffle(data)\n",
    "    return data\n",
    "\n",
    "# load data from a file and append it to the rawData\n",
    "def loadData(path, Text=None):\n",
    "    with open(path, encoding=\"utf8\") as f:\n",
    "        reader = csv.reader(f)\n",
    "\n",
    "        next(reader)\n",
    "        for line in reader:\n",
    "            (Id, Rating, verified_Purchase, product_Category, Text, Label) = parseReview(line)\n",
    "            rawData.append((Id, Rating, verified_Purchase, product_Category, Text, Label))\n",
    "            #preprocessedData.append((Id, preProcess(Text), Label))\n",
    "\n",
    "def sentiment_split(data):\n",
    "    strong = []\n",
    "    weak = []\n",
    "    analyser = SentimentIntensityAnalyzer()\n",
    "\n",
    "    for i in range(len(data)):\n",
    "        vadersenti = analyser.polarity_scores(data[i][4])\n",
    "        if abs(vadersenti['compound']) > 0.5:\n",
    "            strong.append(data[i])\n",
    "        else:\n",
    "            weak.append(data[i])\n",
    "    \n",
    "    return strong, weak\n",
    "\n",
    "def splitData(percentage, data):\n",
    "    dataSamples = len(data)\n",
    "    halfOfData = int(len(data)/2)\n",
    "    trainingSamples = int((percentage*dataSamples)/2)\n",
    "    for (_, Rating, verified_Purchase, product_Category, Text, Label) in data[:trainingSamples] + data[halfOfData:halfOfData+trainingSamples]:\n",
    "        trainData.append((toFeatureVector(preProcess(Text)),Label))\n",
    "        # trainData.append((toFeatureVector(Rating, verified_Purchase, product_Category, preProcess(Text)),Label))\n",
    "    for (_, Rating, verified_Purchase, product_Category, Text, Label) in data[trainingSamples:halfOfData] + data[halfOfData+trainingSamples:]:\n",
    "        testData.append((toFeatureVector(preProcess(Text)),Label))\n",
    "# QUESTION 1\n",
    "\n",
    "\n",
    "# Convert line from input file into an id/text/label tuple\n",
    "def parseReview(reviewLine):\n",
    "    # Should return a triple of an integer, a string containing the review, and a string indicating the label\n",
    "    s=\"\"\n",
    "    if reviewLine[1]==\"__label1__\":\n",
    "        s = \"fake\"\n",
    "    else: \n",
    "        s = \"real\"\n",
    "    return (reviewLine[0], reviewLine[2], reviewLine[3],reviewLine[4], reviewLine[8], s)\n",
    "# TEXT PREPROCESSING AND FEATURE VECTORIZATION\n",
    "# Input: a string of one review\n",
    "table = str.maketrans({key: None for key in string.punctuation})\n",
    "\n",
    "\n",
    "def preProcess(text):\n",
    "    # Should return a list of tokens\n",
    "    lemmatizer = WordNetLemmatizer()\n",
    "    filtered_tokens=[]\n",
    "    lemmatized_tokens = []\n",
    "    stop_words = set(stopwords.words('english'))\n",
    "    text = text.translate(table)\n",
    "    for w in text.split(\" \"):\n",
    "\n",
    "        ######################## try without removing ################################################################\n",
    "        lemmatized_tokens.append(lemmatizer.lemmatize(w.lower()))\n",
    "        filtered_tokens = [' '.join(l) for l in nltk.bigrams(lemmatized_tokens)] + lemmatized_tokens\n",
    "\n",
    "        ######################## try keep stopwords only ################################################################\n",
    "        # if w in stop_words:\n",
    "        #     lemmatized_tokens.append(lemmatizer.lemmatize(w.lower()))\n",
    "        # filtered_tokens = [' '.join(l) for l in nltk.ngrams(lemmatized_tokens, n=1)] + lemmatized_tokens\n",
    "\n",
    "        ######################## try removing ################################################################\n",
    "        # if w not in stop_words:\n",
    "        #     lemmatized_tokens.append(lemmatizer.lemmatize(w.lower()))\n",
    "        # filtered_tokens = [' '.join(l) for l in nltk.bigrams(lemmatized_tokens)] + lemmatized_tokens\n",
    "    return filtered_tokens\n",
    "featureDict = {} # A global dictionary of features\n",
    "\n",
    "\n",
    "# def toFeatureVector(Rating, verified_Purchase, product_Category, tokens):\n",
    "def toFeatureVector(tokens):\n",
    "\n",
    "    localDict = {}\n",
    "    \n",
    "# #Rating\n",
    "\n",
    "#     #print(Rating)\n",
    "#     featureDict[\"R\"] = 1   \n",
    "#     localDict[\"R\"] = Rating\n",
    "\n",
    "# #Verified_Purchase\n",
    "  \n",
    "#     featureDict[\"VP\"] = 1\n",
    "            \n",
    "#     if verified_Purchase == \"N\":\n",
    "#         localDict[\"VP\"] = 0\n",
    "#     else:\n",
    "#         localDict[\"VP\"] = 1\n",
    "\n",
    "# #Product_Category\n",
    "\n",
    "    \n",
    "#     if product_Category not in featureDict:\n",
    "#         featureDict[product_Category] = 1\n",
    "#     else:\n",
    "#         featureDict[product_Category] = +1\n",
    "            \n",
    "#     if product_Category not in localDict:\n",
    "#         localDict[product_Category] = 1\n",
    "#     else:\n",
    "#         localDict[product_Category] = +1\n",
    "            \n",
    "            \n",
    "#Text        \n",
    "\n",
    "    for token in tokens:\n",
    "        if token not in featureDict:\n",
    "            featureDict[token] = 1\n",
    "        else:\n",
    "            featureDict[token] = +1\n",
    "            \n",
    "        if token not in localDict:\n",
    "            localDict[token] = 1\n",
    "        else:\n",
    "            localDict[token] = +1\n",
    "    \n",
    "    return localDict"
   ]
  },
  {
   "cell_type": "code",
   "execution_count": 28,
   "metadata": {},
   "outputs": [],
   "source": [
    "import os\n",
    "from utils.configs import config\n",
    "from utils.loader import DataLoader\n",
    "\n"
   ]
  },
  {
   "cell_type": "code",
   "execution_count": 29,
   "metadata": {},
   "outputs": [
    {
     "name": "stdout",
     "output_type": "stream",
     "text": [
      "data\\amazon_reviews\\train\\amazon_reviews.txt\n"
     ]
    }
   ],
   "source": [
    "path = os.path.join(config['base_path'], config['amazon_path'], 'train')\n",
    "reviewPath = DataLoader.list_all_txt_files(path)[0]\n",
    "print(reviewPath)"
   ]
  },
  {
   "cell_type": "code",
   "execution_count": 89,
   "metadata": {},
   "outputs": [
    {
     "name": "stdout",
     "output_type": "stream",
     "text": [
      "Now 0 rawData, 0 trainData, 0 testData\n",
      "Preparing the dataset...\n",
      "Now 15750 rawData, 0 trainData, 0 testData\n",
      "Preparing training and test data...\n",
      "12598 3152\n"
     ]
    }
   ],
   "source": [
    "# MAIN\n",
    "\n",
    "# loading reviews\n",
    "rawData = []          # the filtered data from the dataset file (should be 21000 samples)\n",
    "preprocessedData = [] # the preprocessed reviews (just to see how your preprocessing is doing)\n",
    "trainData = []        # the training data as a percentage of the total dataset (currently 80%, or 16800 samples)\n",
    "testData = []         # the test data as a percentage of the total dataset (currently 20%, or 4200 samples)\n",
    "\n",
    "# the output classes\n",
    "fakeLabel = 'fake'\n",
    "realLabel = 'real'\n",
    "\n",
    "# references to the data files\n",
    "path = os.path.join(config['base_path'], config['amazon_path'], 'train')\n",
    "reviewPath = DataLoader.list_all_txt_files(path)[0]\n",
    "\n",
    "## Do the actual stuff\n",
    "# We parse the dataset and put it in a raw data list\n",
    "print(\"Now %d rawData, %d trainData, %d testData\" % (len(rawData), len(trainData), len(testData)),\n",
    "      \"Preparing the dataset...\",sep='\\n')\n",
    "\n",
    "loadData(reviewPath) \n",
    "strong, weak = sentiment_split(rawData)\n",
    "\n",
    "# We split the raw dataset into a set of training data and a set of test data (80/20)\n",
    "print(\"Now %d rawData, %d trainData, %d testData\" % (len(rawData), len(trainData), len(testData)),\n",
    "      \"Preparing training and test data...\",sep='\\n')\n",
    "\n",
    "print(len(strong), len(weak))"
   ]
  },
  {
   "cell_type": "code",
   "execution_count": 90,
   "metadata": {},
   "outputs": [
    {
     "name": "stdout",
     "output_type": "stream",
     "text": [
      "Now 15750 rawData, 2520 trainData, 632 testData\n",
      "Training Samples: \n",
      "2520\n",
      "Features: \n",
      "365196\n"
     ]
    }
   ],
   "source": [
    "splitData(0.8, weak)\n",
    "# We print the number of training samples and the number of features\n",
    "print(\"Now %d rawData, %d trainData, %d testData\" % (len(rawData), len(trainData), len(testData)),\n",
    "      \"Training Samples: \", len(trainData), \"Features: \", len(featureDict), sep='\\n')"
   ]
  },
  {
   "cell_type": "code",
   "execution_count": 54,
   "metadata": {},
   "outputs": [],
   "source": [
    "# from vaderSentiment.vaderSentiment import SentimentIntensityAnalyzer\n",
    "# analyser = SentimentIntensityAnalyzer()\n",
    "\n",
    "# def print_sentiment_scores(tweets):\n",
    "#     vadersenti = analyser.polarity_scores(tweets)\n",
    "#     return vadersenti['compound']\n",
    "#     # return ([vadersenti['pos'], vadersenti['neg'], vadersenti['neu'], vadersenti['compound']])"
   ]
  },
  {
   "cell_type": "code",
   "execution_count": 71,
   "metadata": {},
   "outputs": [
    {
     "name": "stdout",
     "output_type": "stream",
     "text": [
      "0.891\n",
      "0.7173\n",
      "-0.4153\n",
      "0.6677\n",
      "0.8993\n"
     ]
    }
   ],
   "source": [
    "for i in range(5):\n",
    "    print(print_sentiment_scores(rawData[i][4]))"
   ]
  },
  {
   "cell_type": "code",
   "execution_count": 72,
   "metadata": {},
   "outputs": [],
   "source": [
    "# TRAINING AND VALIDATING OUR CLASSIFIER\n",
    "def trainClassifier(trainData):\n",
    "    print(\"Training Classifier...\")\n",
    "    pipeline =  Pipeline([('svc', LinearSVC())])\n",
    "    return SklearnClassifier(pipeline).train(trainData)\n",
    "\n",
    "\n",
    "def predictLabels(reviewSamples, classifier):\n",
    "    return classifier.classify_many(map(lambda t: t[0], reviewSamples))\n",
    "    \n",
    "\n",
    "def crossValidate(dataset, folds):\n",
    "    shuffle(dataset)\n",
    "    cv_results = []\n",
    "    foldSize = int(len(dataset)/folds)\n",
    "    for i in range(0,len(dataset),foldSize):\n",
    "        classifier = trainClassifier(dataset[:i]+dataset[foldSize+i:])\n",
    "        y_pred = predictLabels(dataset[i:i+foldSize],classifier)\n",
    "        a = accuracy_score(list(map(lambda d : d[1], dataset[i:i+foldSize])), y_pred)\n",
    "        (p,r,f,_) = precision_recall_fscore_support(list(map(lambda d : d[1], dataset[i:i+foldSize])), y_pred, average ='macro')\n",
    "        #print(a,p,r,f)\n",
    "        cv_results.append((a,p,r,f))\n",
    "    cv_results = (np.mean(np.array(cv_results),axis=0))\n",
    "    return cv_results"
   ]
  },
  {
   "cell_type": "code",
   "execution_count": 32,
   "metadata": {},
   "outputs": [],
   "source": [
    "rawGold = loadGoldData(shuffle = True)"
   ]
  },
  {
   "cell_type": "code",
   "execution_count": 33,
   "metadata": {},
   "outputs": [],
   "source": [
    "testGold = []\n",
    "for (Text, Label) in rawGold:\n",
    "    testGold.append((toFeatureVector(preProcess(Text)),Label))"
   ]
  },
  {
   "cell_type": "code",
   "execution_count": 97,
   "metadata": {},
   "outputs": [],
   "source": [
    "####################################################\n",
    "# run this to change the testData\n",
    "\n",
    "test_Data = testGold\n",
    "# test_Data = testData\n",
    "\n",
    "\n",
    "####################################################"
   ]
  },
  {
   "cell_type": "code",
   "execution_count": 98,
   "metadata": {},
   "outputs": [],
   "source": [
    "# additional classifiers\n",
    "from sklearn.naive_bayes import MultinomialNB,BernoulliNB\n",
    "from sklearn.linear_model import LogisticRegression\n",
    "from sklearn.linear_model import SGDClassifier\n",
    "\n",
    "def MNB_Classifier(trainData):\n",
    "    print(\"Training Classifier...\")\n",
    "    MNB_classifier = SklearnClassifier(MultinomialNB())\n",
    "    return MNB_classifier.train(trainData)\n",
    "\n",
    "\n",
    "def BernoulliNB_Classifier(trainData):\n",
    "    print(\"Training Classifier...\")\n",
    "    BernoulliNB_classifier = SklearnClassifier(BernoulliNB())\n",
    "    return BernoulliNB_classifier.train(trainData)\n",
    "\n",
    "\n",
    "def LogisticRegression_Classifier(trainData):\n",
    "    print(\"Training Classifier...\")\n",
    "    LogisticRegression_classifier = SklearnClassifier(LogisticRegression(max_iter=1000))\n",
    "    return LogisticRegression_classifier.train(trainData)\n",
    "\n",
    "def SGDClassifier_Classifier(trainData):\n",
    "    print(\"Training Classifier...\")\n",
    "    SGDClassifier_classifier = SklearnClassifier(SGDClassifier())\n",
    "    return SGDClassifier_classifier.train(trainData)\n"
   ]
  },
  {
   "cell_type": "code",
   "execution_count": 99,
   "metadata": {},
   "outputs": [],
   "source": [
    "# print(\"Mean of cross-validations (Accuracy, Precision, Recall, Fscore): \", crossValidate(trainData, 10))\n"
   ]
  },
  {
   "cell_type": "code",
   "execution_count": 100,
   "metadata": {},
   "outputs": [
    {
     "name": "stdout",
     "output_type": "stream",
     "text": [
      "Training Classifier...\n",
      "accuracy:  0.625625\n",
      "Precision:  0.6287687687687687\n",
      "Recall:  0.625625\n",
      "f1-score:  0.6233259641365757\n"
     ]
    }
   ],
   "source": [
    "#  TEST DATA\n",
    "classifier = trainClassifier(trainData)\n",
    "predictions = predictLabels(test_Data, classifier)\n",
    "true_labels = list(map(lambda d: d[1], test_Data))\n",
    "a = accuracy_score(true_labels, predictions)\n",
    "p, r, f1, _ = precision_recall_fscore_support(true_labels, predictions, average='macro')\n",
    "print(\"accuracy: \", a)\n",
    "print(\"Precision: \", p)\n",
    "print(\"Recall: \", a)\n",
    "print(\"f1-score: \", f1)"
   ]
  },
  {
   "cell_type": "code",
   "execution_count": 101,
   "metadata": {},
   "outputs": [
    {
     "name": "stdout",
     "output_type": "stream",
     "text": [
      "Training Classifier...\n",
      "accuracy:  0.58\n",
      "Precision:  0.5805482313999659\n",
      "Recall:  0.58\n",
      "f1-score:  0.579284125645043\n"
     ]
    }
   ],
   "source": [
    "#  TEST DATA\n",
    "classifier = MNB_Classifier(trainData)\n",
    "predictions = predictLabels(test_Data, classifier)\n",
    "true_labels = list(map(lambda d: d[1], test_Data))\n",
    "a = accuracy_score(true_labels, predictions)\n",
    "p, r, f1, _ = precision_recall_fscore_support(true_labels, predictions, average='macro')\n",
    "print(\"accuracy: \", a)\n",
    "print(\"Precision: \", p)\n",
    "print(\"Recall: \", a)\n",
    "print(\"f1-score: \", f1)"
   ]
  },
  {
   "cell_type": "code",
   "execution_count": 102,
   "metadata": {},
   "outputs": [
    {
     "name": "stdout",
     "output_type": "stream",
     "text": [
      "Training Classifier...\n",
      "accuracy:  0.578125\n",
      "Precision:  0.5786441744327788\n",
      "Recall:  0.578125\n",
      "f1-score:  0.5774275904569064\n"
     ]
    }
   ],
   "source": [
    "#  TEST DATA\n",
    "classifier = BernoulliNB_Classifier(trainData)\n",
    "predictions = predictLabels(test_Data, classifier)\n",
    "true_labels = list(map(lambda d: d[1], test_Data))\n",
    "a = accuracy_score(true_labels, predictions)\n",
    "p, r, f1, _ = precision_recall_fscore_support(true_labels, predictions, average='macro')\n",
    "print(\"accuracy: \", a)\n",
    "print(\"Precision: \", p)\n",
    "print(\"Recall: \", a)\n",
    "print(\"f1-score: \", f1)"
   ]
  },
  {
   "cell_type": "code",
   "execution_count": 105,
   "metadata": {},
   "outputs": [
    {
     "name": "stdout",
     "output_type": "stream",
     "text": [
      "Training Classifier...\n",
      "accuracy:  0.64625\n",
      "Precision:  0.6495026162957851\n",
      "Recall:  0.64625\n",
      "f1-score:  0.6443154092807912\n"
     ]
    }
   ],
   "source": [
    "#  TEST DATA\n",
    "classifier = LogisticRegression_Classifier(trainData)\n",
    "predictions = predictLabels(test_Data, classifier)\n",
    "true_labels = list(map(lambda d: d[1], test_Data))\n",
    "a = accuracy_score(true_labels, predictions)\n",
    "p, r, f1, _ = precision_recall_fscore_support(true_labels, predictions, average='macro')\n",
    "print(\"accuracy: \", a)\n",
    "print(\"Precision: \", p)\n",
    "print(\"Recall: \", a)\n",
    "print(\"f1-score: \", f1)"
   ]
  },
  {
   "cell_type": "code",
   "execution_count": 104,
   "metadata": {},
   "outputs": [
    {
     "name": "stdout",
     "output_type": "stream",
     "text": [
      "Training Classifier...\n",
      "accuracy:  0.61625\n",
      "Precision:  0.6162529063226581\n",
      "Recall:  0.61625\n",
      "f1-score:  0.6162476015475096\n"
     ]
    }
   ],
   "source": [
    "#  TEST DATA\n",
    "classifier = SGDClassifier_Classifier(trainData)\n",
    "predictions = predictLabels(test_Data, classifier)\n",
    "true_labels = list(map(lambda d: d[1], test_Data))\n",
    "a = accuracy_score(true_labels, predictions)\n",
    "p, r, f1, _ = precision_recall_fscore_support(true_labels, predictions, average='macro')\n",
    "print(\"accuracy: \", a)\n",
    "print(\"Precision: \", p)\n",
    "print(\"Recall: \", a)\n",
    "print(\"f1-score: \", f1)"
   ]
  },
  {
   "cell_type": "code",
   "execution_count": 42,
   "metadata": {},
   "outputs": [
    {
     "name": "stdout",
     "output_type": "stream",
     "text": [
      "Acc: 0.6787301587301587\n"
     ]
    }
   ],
   "source": [
    "test_samples = testData\n",
    "pred = predictLabels(test_samples, classifier)\n",
    "summ = 0\n",
    "for i in range(len(test_samples)):\n",
    "    correct = np.where(test_samples[i][1] == pred[i], 1, 0)\n",
    "    # print(f'True: {test_samples[i][1]}, Predict: {pred[i]},   {correct}')\n",
    "    summ += correct\n",
    "\n",
    "print(f'Acc: {summ/len(test_samples)}')\n"
   ]
  },
  {
   "cell_type": "code",
   "execution_count": 43,
   "metadata": {},
   "outputs": [
    {
     "data": {
      "text/plain": [
       "list"
      ]
     },
     "execution_count": 43,
     "metadata": {},
     "output_type": "execute_result"
    }
   ],
   "source": [
    "type(trainData)"
   ]
  },
  {
   "cell_type": "code",
   "execution_count": 44,
   "metadata": {},
   "outputs": [
    {
     "name": "stdout",
     "output_type": "stream",
     "text": [
      "{'i didnt': 1, 'didnt really': 1, 'really like': 1, 'like putting': 1, 'putting the': 1, 'the studio': 1, 'studio rta': 1, 'rta atower': 1, 'atower corner': 1, 'corner wood': 1, 'wood computer': 1, 'computer desk': 1, 'desk with': 1, 'with hutch': 1, 'hutch in': 1, 'in pewter': 1, 'pewter and': 1, 'and cherry': 1, 'cherry together': 1, 'together but': 1, 'but it': 1, 'it work': 1, 'work great': 1, 'great and': 1, 'and fit': 1, 'fit into': 1, 'into my': 1, 'my small': 1, 'small office': 1, 'office corner': 1, 'i': 1, 'didnt': 1, 'really': 1, 'like': 1, 'putting': 1, 'the': 1, 'studio': 1, 'rta': 1, 'atower': 1, 'corner': 1, 'wood': 1, 'computer': 1, 'desk': 1, 'with': 1, 'hutch': 1, 'in': 1, 'pewter': 1, 'and': 1, 'cherry': 1, 'together': 1, 'but': 1, 'it': 1, 'work': 1, 'great': 1, 'fit': 1, 'into': 1, 'my': 1, 'small': 1, 'office': 1} fake\n"
     ]
    }
   ],
   "source": [
    "print(trainData[1][0], trainData[1][1])"
   ]
  },
  {
   "cell_type": "code",
   "execution_count": 45,
   "metadata": {},
   "outputs": [
    {
     "data": {
      "text/plain": [
       "dict"
      ]
     },
     "execution_count": 45,
     "metadata": {},
     "output_type": "execute_result"
    }
   ],
   "source": [
    "type(trainData[1][0])"
   ]
  },
  {
   "cell_type": "code",
   "execution_count": 46,
   "metadata": {},
   "outputs": [
    {
     "name": "stdout",
     "output_type": "stream",
     "text": [
      "Training Classifier...\n"
     ]
    }
   ],
   "source": [
    "classifier = trainClassifier(trainData)\n",
    "predictions = predictLabels(test_Data, classifier)\n",
    "true_labels = list(map(lambda d: d[1], test_Data))"
   ]
  },
  {
   "cell_type": "code",
   "execution_count": 47,
   "metadata": {},
   "outputs": [
    {
     "name": "stdout",
     "output_type": "stream",
     "text": [
      "Training Classifier...\n",
      "Iteration 1, loss = 0.61347991\n",
      "Iteration 2, loss = 0.19353398\n",
      "Iteration 3, loss = 0.04392985\n"
     ]
    },
    {
     "name": "stderr",
     "output_type": "stream",
     "text": [
      "C:\\Users\\edton\\miniconda3\\envs\\SNLP\\lib\\site-packages\\sklearn\\neural_network\\_multilayer_perceptron.py:699: UserWarning: Training interrupted by user.\n",
      "  warnings.warn(\"Training interrupted by user.\")\n"
     ]
    },
    {
     "name": "stdout",
     "output_type": "stream",
     "text": [
      "accuracy:  0.6325\n",
      "Precision:  0.6359811165845648\n",
      "Recall:  0.6325\n",
      "f1-score:  0.630132850241546\n"
     ]
    }
   ],
   "source": [
    "from sklearn.neural_network import MLPClassifier\n",
    "\n",
    "def MLPClassifier_Classifier(trainData):\n",
    "    print(\"Training Classifier...\")\n",
    "    MNB_classifier = SklearnClassifier(MLPClassifier(hidden_layer_sizes=(100,), max_iter=50, verbose=True))\n",
    "    return MNB_classifier.train(trainData)\n",
    "\n",
    "#  TEST DATA\n",
    "classifier = MLPClassifier_Classifier(trainData)\n",
    "predictions = predictLabels(test_Data, classifier)\n",
    "true_labels = list(map(lambda d: d[1], test_Data))\n",
    "a = accuracy_score(true_labels, predictions)\n",
    "p, r, f1, _ = precision_recall_fscore_support(true_labels, predictions, average='macro')\n",
    "print(\"accuracy: \", a)\n",
    "print(\"Precision: \", p)\n",
    "print(\"Recall: \", a)\n",
    "print(\"f1-score: \", f1)"
   ]
  },
  {
   "cell_type": "code",
   "execution_count": null,
   "metadata": {},
   "outputs": [
    {
     "name": "stdout",
     "output_type": "stream",
     "text": [
      "accuracy:  0.6628571428571428\n",
      "Precision:  0.6633553245863717\n",
      "Recall:  0.6628571428571428\n",
      "f1-score:  0.6627652423497419\n"
     ]
    }
   ],
   "source": [
    "predictions = predictLabels(test_Data, classifier)\n",
    "true_labels = list(map(lambda d: d[1], test_Data))\n",
    "a = accuracy_score(true_labels, predictions)\n",
    "p, r, f1, _ = precision_recall_fscore_support(true_labels, predictions, average='macro')\n",
    "print(\"accuracy: \", a)\n",
    "print(\"Precision: \", p)\n",
    "print(\"Recall: \", a)\n",
    "print(\"f1-score: \", f1)"
   ]
  },
  {
   "cell_type": "code",
   "execution_count": null,
   "metadata": {},
   "outputs": [],
   "source": []
  }
 ],
 "metadata": {
  "interpreter": {
   "hash": "1bf0f833311fc1a2d9ca1cf8207d63bf4ae3af89d2c46669381eed313e768b9d"
  },
  "kernelspec": {
   "display_name": "Python 3.8.12 ('SNLP')",
   "language": "python",
   "name": "python3"
  },
  "language_info": {
   "codemirror_mode": {
    "name": "ipython",
    "version": 3
   },
   "file_extension": ".py",
   "mimetype": "text/x-python",
   "name": "python",
   "nbconvert_exporter": "python",
   "pygments_lexer": "ipython3",
   "version": "3.8.12"
  },
  "orig_nbformat": 4
 },
 "nbformat": 4,
 "nbformat_minor": 2
}
