{
 "cells": [
  {
   "cell_type": "markdown",
   "metadata": {},
   "source": [
    "https://scikit-learn.org/stable/tutorial/text_analytics/working_with_text_data.html"
   ]
  },
  {
   "cell_type": "code",
   "execution_count": 14,
   "metadata": {},
   "outputs": [],
   "source": [
    "from utils.loader import DataLoader\n",
    "import numpy as np\n",
    "\n",
    "from sklearn.pipeline import Pipeline\n",
    "\n",
    "from sklearn.feature_extraction.text import CountVectorizer\n",
    "from sklearn.feature_extraction.text import TfidfTransformer\n",
    "\n",
    "from sklearn.svm import LinearSVC\n",
    "\n",
    "from sklearn.naive_bayes import MultinomialNB\n",
    "\n",
    "from sklearn.linear_model import RidgeClassifier, SGDClassifier\n",
    "from sklearn.linear_model import PassiveAggressiveClassifier, Perceptron\n",
    "\n",
    "from sklearn.neighbors import KNeighborsClassifier\n"
   ]
  },
  {
   "cell_type": "code",
   "execution_count": 2,
   "metadata": {},
   "outputs": [],
   "source": [
    "def preprocess(panda_data):\n",
    "    text = []\n",
    "    labels = []\n",
    "    np_data = panda_data.to_numpy()\n",
    "\n",
    "    for i in range(len(np_data)):\n",
    "        text.append(np_data[i][8])\n",
    "        labels.append(np_data[i][1])\n",
    "\n",
    "    data_dict = {'text': text,\n",
    "                'labels': labels} \n",
    "\n",
    "    return data_dict"
   ]
  },
  {
   "cell_type": "code",
   "execution_count": 3,
   "metadata": {},
   "outputs": [],
   "source": [
    "# Load datasets\n",
    "# Amazon: ['DOC_ID', 'LABEL', 'RATING', 'VERIFIED_PURCHASE', 'PRODUCT_CATEGORY',\n",
    "# 'PRODUCT_ID', 'PRODUCT_TITLE', 'REVIEW_TITLE', 'REVIEW_TEXT']\n",
    "loader = DataLoader()\n",
    "train_data = loader.load_amazon(deceptive=False, all=True, test_mode=False)\n",
    "test_data = loader.load_amazon(deceptive=False, all=True, test_mode=True)\n",
    "\n",
    "train_data = preprocess(train_data)\n",
    "test_data = preprocess(test_data)"
   ]
  },
  {
   "cell_type": "code",
   "execution_count": 17,
   "metadata": {},
   "outputs": [
    {
     "name": "stdout",
     "output_type": "stream",
     "text": [
      "LinearSVC 0.6394285714285715\n",
      "Multi  NB 0.6573333333333333\n",
      "Ridge cls 0.6508571428571429\n",
      "SGD   cls 0.6664761904761904\n",
      "Pass-Aggr 0.583047619047619\n",
      "Perceptro 0.591047619047619\n",
      "k - N - N 0.5971428571428572\n"
     ]
    }
   ],
   "source": [
    "print('With CountVectorizer & TfidfTransformer')\n",
    "for clf, name in (\n",
    "        (LinearSVC(), \"LinearSVC\"),\n",
    "        (MultinomialNB(), \"Multi  NB\"),\n",
    "        (RidgeClassifier(), \"Ridge cls\"),\n",
    "        (SGDClassifier(), \"SGD   cls\"),\n",
    "        (PassiveAggressiveClassifier(), \"Pass-Aggr\"),\n",
    "        (Perceptron(), \"Perceptro\"),\n",
    "        (KNeighborsClassifier(), \"k - N - N\"),\n",
    "        ):\n",
    "\n",
    "        text_clf = Pipeline([\n",
    "                        ('vect', CountVectorizer()),\n",
    "                        ('tfidf', TfidfTransformer()),\n",
    "                        ('clf', clf),\n",
    "                        ])\n",
    "\n",
    "        text_clf.fit(train_data['text'], train_data['labels'])\n",
    "\n",
    "        predicted = text_clf.predict(test_data['text'])\n",
    "        acc = np.mean(predicted == test_data['labels'])\n",
    "\n",
    "        print(name, acc)"
   ]
  },
  {
   "cell_type": "code",
   "execution_count": 18,
   "metadata": {},
   "outputs": [
    {
     "name": "stdout",
     "output_type": "stream",
     "text": [
      "With CountVectorizer only\n"
     ]
    },
    {
     "name": "stderr",
     "output_type": "stream",
     "text": [
      "C:\\Users\\edton\\miniconda3\\envs\\SNLP\\lib\\site-packages\\sklearn\\svm\\_base.py:1206: ConvergenceWarning: Liblinear failed to converge, increase the number of iterations.\n",
      "  warnings.warn(\n"
     ]
    },
    {
     "name": "stdout",
     "output_type": "stream",
     "text": [
      "LinearSVC 0.5977142857142858\n",
      "Multi  NB 0.6506666666666666\n",
      "Ridge cls 0.5908571428571429\n",
      "SGD   cls 0.6152380952380953\n",
      "Pass-Aggr 0.5946666666666667\n",
      "Perceptro 0.6123809523809524\n",
      "k - N - N 0.5436190476190477\n"
     ]
    }
   ],
   "source": [
    "print('With CountVectorizer only')\n",
    "for clf, name in (\n",
    "        (LinearSVC(), \"LinearSVC\"),\n",
    "        (MultinomialNB(), \"Multi  NB\"),\n",
    "        (RidgeClassifier(), \"Ridge cls\"),\n",
    "        (SGDClassifier(), \"SGD   cls\"),\n",
    "        (PassiveAggressiveClassifier(), \"Pass-Aggr\"),\n",
    "        (Perceptron(), \"Perceptro\"),\n",
    "        (KNeighborsClassifier(), \"k - N - N\"),\n",
    "        ):\n",
    "\n",
    "        text_clf = Pipeline([\n",
    "                        ('vect', CountVectorizer()),\n",
    "                        ('clf', clf),\n",
    "                        ])\n",
    "\n",
    "        text_clf.fit(train_data['text'], train_data['labels'])\n",
    "\n",
    "        predicted = text_clf.predict(test_data['text'])\n",
    "        acc = np.mean(predicted == test_data['labels'])\n",
    "\n",
    "        print(name, acc)"
   ]
  },
  {
   "cell_type": "code",
   "execution_count": null,
   "metadata": {},
   "outputs": [],
   "source": []
  }
 ],
 "metadata": {
  "interpreter": {
   "hash": "1bf0f833311fc1a2d9ca1cf8207d63bf4ae3af89d2c46669381eed313e768b9d"
  },
  "kernelspec": {
   "display_name": "Python 3.8.12 ('SNLP')",
   "language": "python",
   "name": "python3"
  },
  "language_info": {
   "codemirror_mode": {
    "name": "ipython",
    "version": 3
   },
   "file_extension": ".py",
   "mimetype": "text/x-python",
   "name": "python",
   "nbconvert_exporter": "python",
   "pygments_lexer": "ipython3",
   "version": "3.8.12"
  },
  "orig_nbformat": 4
 },
 "nbformat": 4,
 "nbformat_minor": 2
}
