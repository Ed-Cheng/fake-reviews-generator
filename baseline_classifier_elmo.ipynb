{
 "cells": [
  {
   "cell_type": "markdown",
   "metadata": {},
   "source": [
    "https://scikit-learn.org/stable/tutorial/text_analytics/working_with_text_data.html"
   ]
  },
  {
   "cell_type": "code",
   "execution_count": 1,
   "metadata": {},
   "outputs": [],
   "source": [
    "from utils.loader import DataLoader\n",
    "import numpy as np\n",
    "import pandas as pd\n",
    "\n",
    "from sklearn.pipeline import Pipeline\n",
    "\n",
    "from sklearn.feature_extraction.text import CountVectorizer\n",
    "from sklearn.feature_extraction.text import TfidfTransformer\n",
    "\n",
    "from sklearn.svm import LinearSVC\n",
    "from sklearn.naive_bayes import MultinomialNB\n",
    "from sklearn.linear_model import RidgeClassifier, SGDClassifier\n",
    "# from sklearn.linear_model import PassiveAggressiveClassifier, Perceptron\n",
    "# from sklearn.neighbors import KNeighborsClassifier\n"
   ]
  },
  {
   "cell_type": "code",
   "execution_count": 2,
   "metadata": {},
   "outputs": [],
   "source": [
    "def df2dict(panda_data):\n",
    "    panda_data.loc[panda_data['LABEL'] == '__label2__', 'LABEL'] = 0\n",
    "    panda_data.loc[panda_data['LABEL'] == '__label1__', 'LABEL'] = 1\n",
    "\n",
    "    text = []\n",
    "    labels = []\n",
    "    np_data = panda_data.to_numpy()\n",
    "\n",
    "    for i in range(len(np_data)):\n",
    "        # text.append((np_data[i][2:] * 1000000).astype(int))\n",
    "        text.append(np_data[i][2:])\n",
    "        labels.append(np_data[i][1])\n",
    "\n",
    "    data_dict = {'text': text,\n",
    "                'labels': labels} \n",
    "\n",
    "    return data_dict"
   ]
  },
  {
   "cell_type": "markdown",
   "metadata": {},
   "source": [
    "# feature_extraction with sklearn methods"
   ]
  },
  {
   "cell_type": "code",
   "execution_count": 3,
   "metadata": {},
   "outputs": [],
   "source": [
    "def run_classifier(info):\n",
    "    print(info)\n",
    "    best_acc = 0\n",
    "    for clf, name in (\n",
    "            (LinearSVC(), \"LinearSVC\"),\n",
    "            # (MultinomialNB(), \"Multi  NB\"),\n",
    "            (RidgeClassifier(), \"Ridge cls\"),\n",
    "            (SGDClassifier(), \"SGD   cls\"),\n",
    "            # the following 3 preform quite bad\n",
    "            # (PassiveAggressiveClassifier(), \"Pass-Aggr\"),\n",
    "            # (Perceptron(), \"Perceptro\"),\n",
    "            # (KNeighborsClassifier(), \"k - N - N\"),\n",
    "            ):\n",
    "\n",
    "\n",
    "        clf.fit(train_data['text'], train_data['labels'])\n",
    "\n",
    "        predicted = clf.predict(test_data['text'])\n",
    "        acc = np.mean(predicted == test_data['labels'])\n",
    "\n",
    "        print(name, acc)\n",
    "\n",
    "        if acc > best_acc:\n",
    "            best_acc = acc\n",
    "            best_result = (name, acc)\n",
    "    \n",
    "    print('Best result in this run: ', best_result)"
   ]
  },
  {
   "cell_type": "code",
   "execution_count": 4,
   "metadata": {},
   "outputs": [],
   "source": [
    "# Load amazon datasets\n",
    "# Amazon: ['DOC_ID', 'LABEL', 'RATING', 'VERIFIED_PURCHASE', 'PRODUCT_CATEGORY',\n",
    "# 'PRODUCT_ID', 'PRODUCT_TITLE', 'REVIEW_TITLE', 'REVIEW_TEXT']\n",
    "loader = DataLoader()\n",
    "\n",
    "#################### Choose which dataset to use ####################\n",
    "train_data = loader.load_amazon(deceptive=False, all=True, test_mode=False)\n",
    "test_data = loader.load_amazon(deceptive=False, all=True, test_mode=True)\n",
    "\n",
    "\n",
    "path = 'vectorised_data/amazon_train_elmo.csv'\n",
    "train_data = pd.read_csv(path, sep=',')\n",
    "\n",
    "path = 'vectorised_data/amazon_test_elmo.csv'\n",
    "test_data = pd.read_csv(path, sep=',')\n",
    "\n",
    "train_data = df2dict(train_data)\n",
    "test_data = df2dict(test_data)\n"
   ]
  },
  {
   "cell_type": "code",
   "execution_count": 5,
   "metadata": {},
   "outputs": [
    {
     "name": "stdout",
     "output_type": "stream",
     "text": [
      "elmo\n"
     ]
    },
    {
     "name": "stderr",
     "output_type": "stream",
     "text": [
      "C:\\Users\\edton\\miniconda3\\envs\\SNLP\\lib\\site-packages\\sklearn\\svm\\_base.py:1206: ConvergenceWarning: Liblinear failed to converge, increase the number of iterations.\n",
      "  warnings.warn(\n",
      "C:\\Users\\edton\\miniconda3\\envs\\SNLP\\lib\\site-packages\\sklearn\\base.py:566: FutureWarning: Arrays of bytes/strings is being converted to decimal numbers if dtype='numeric'. This behavior is deprecated in 0.24 and will be removed in 1.1 (renaming of 0.26). Please convert your data to numeric values explicitly instead.\n",
      "  X = check_array(X, **check_params)\n"
     ]
    },
    {
     "name": "stdout",
     "output_type": "stream",
     "text": [
      "LinearSVC 0.6542857142857142\n"
     ]
    },
    {
     "name": "stderr",
     "output_type": "stream",
     "text": [
      "C:\\Users\\edton\\miniconda3\\envs\\SNLP\\lib\\site-packages\\sklearn\\utils\\validation.py:964: FutureWarning: Arrays of bytes/strings is being converted to decimal numbers if dtype='numeric'. This behavior is deprecated in 0.24 and will be removed in 1.1 (renaming of 0.26). Please convert your data to numeric values explicitly instead.\n",
      "  X = check_array(\n",
      "C:\\Users\\edton\\miniconda3\\envs\\SNLP\\lib\\site-packages\\sklearn\\base.py:566: FutureWarning: Arrays of bytes/strings is being converted to decimal numbers if dtype='numeric'. This behavior is deprecated in 0.24 and will be removed in 1.1 (renaming of 0.26). Please convert your data to numeric values explicitly instead.\n",
      "  X = check_array(X, **check_params)\n"
     ]
    },
    {
     "name": "stdout",
     "output_type": "stream",
     "text": [
      "Ridge cls 0.6552380952380953\n",
      "SGD   cls 0.6127619047619047\n",
      "Best result in this run:  ('Ridge cls', 0.6552380952380953)\n"
     ]
    },
    {
     "name": "stderr",
     "output_type": "stream",
     "text": [
      "C:\\Users\\edton\\miniconda3\\envs\\SNLP\\lib\\site-packages\\sklearn\\base.py:566: FutureWarning: Arrays of bytes/strings is being converted to decimal numbers if dtype='numeric'. This behavior is deprecated in 0.24 and will be removed in 1.1 (renaming of 0.26). Please convert your data to numeric values explicitly instead.\n",
      "  X = check_array(X, **check_params)\n"
     ]
    }
   ],
   "source": [
    "run_classifier('elmo')\n"
   ]
  },
  {
   "cell_type": "code",
   "execution_count": null,
   "metadata": {},
   "outputs": [],
   "source": []
  }
 ],
 "metadata": {
  "interpreter": {
   "hash": "1bf0f833311fc1a2d9ca1cf8207d63bf4ae3af89d2c46669381eed313e768b9d"
  },
  "kernelspec": {
   "display_name": "Python 3.8.12 ('SNLP')",
   "language": "python",
   "name": "python3"
  },
  "language_info": {
   "codemirror_mode": {
    "name": "ipython",
    "version": 3
   },
   "file_extension": ".py",
   "mimetype": "text/x-python",
   "name": "python",
   "nbconvert_exporter": "python",
   "pygments_lexer": "ipython3",
   "version": "3.8.12"
  },
  "orig_nbformat": 4
 },
 "nbformat": 4,
 "nbformat_minor": 2
}
